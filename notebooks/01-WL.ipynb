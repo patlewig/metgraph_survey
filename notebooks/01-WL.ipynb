{
 "cells": [
  {
   "cell_type": "code",
   "execution_count": 1,
   "metadata": {},
   "outputs": [
    {
     "data": {
      "text/plain": [
       "'\\nsurvey_kernel_tutorial.ipynb\\n\\nNotebook containing WL kernel similarity tutorial for survey paper\\nthat operates on example RAx group of chemicals. Contains code from Oxford Protein Informatics Group to featureize\\nRDKit graphs.\\n\\nQA ID: I-CCED-0032994\\n\\nAuthor: Brett Hagan\\n\\nPI: Grace Patlewicz\\n\\nLast modified: 3/14/24\\n\\n'"
      ]
     },
     "execution_count": 1,
     "metadata": {},
     "output_type": "execute_result"
    }
   ],
   "source": [
    "'''\n",
    "survey_kernel_tutorial.ipynb\n",
    "\n",
    "Notebook containing WL kernel similarity tutorial for survey paper\n",
    "that operates on example RAx group of chemicals. Contains code from Oxford Protein Informatics Group to featureize\n",
    "RDKit graphs.\n",
    "\n",
    "QA ID: I-CCED-0032994\n",
    "\n",
    "Author: Brett Hagan\n",
    "\n",
    "PI: Grace Patlewicz\n",
    "\n",
    "Last modified: 3/14/24\n",
    "\n",
    "'''"
   ]
  },
  {
   "cell_type": "code",
   "execution_count": 6,
   "metadata": {},
   "outputs": [],
   "source": [
    "import matplotlib.pyplot as plt\n",
    "import grakel\n",
    "from rdkit import Chem\n",
    "import numpy as np\n",
    "import pandas as pd\n",
    "import networkx as nx"
   ]
  },
  {
   "cell_type": "code",
   "execution_count": 7,
   "metadata": {},
   "outputs": [],
   "source": [
    "# list of dtxsids and smiles from category\n",
    "dtxsids = ['2-Amino-4,6-Dinitrotoluene',\n",
    "'2,4,6-Trinitrotoluene',\n",
    "'2-Methyl-5-nitroaniline',\n",
    "'Isopropalin',\n",
    "'Pendimethalin',\n",
    "'Trifluralin'\n",
    "]\n",
    "\n",
    "smiles = ['CC1=C(C=C(C=C1N)[N+]([O-])=O)[N+]([O-])=O',\n",
    "'CC1=C(C=C(C=C1[N+]([O-])=O)[N+]([O-])=O)[N+]([O-])=O',\n",
    "'CC1=C(N)C=C(C=C1)[N+]([O-])=O',\n",
    "'CCCN(CCC)C1=C(C=C(C=C1[N+]([O-])=O)C(C)C)[N+]([O-])=O',\n",
    "'CCC(CC)NC1=C(C=C(C)C(C)=C1[N+]([O-])=O)[N+]([O-])=O',\n",
    "'CCCN(CCC)C1=C(C=C(C=C1[N+]([O-])=O)C(F)(F)F)[N+]([O-])=O'\n",
    "]"
   ]
  },
  {
   "cell_type": "code",
   "execution_count": 8,
   "metadata": {},
   "outputs": [],
   "source": [
    "# function to create molecular graphs from SMILES\n",
    "\n",
    "def smile_to_mol_graph(smile):\n",
    "\n",
    "    mol = Chem.MolFromSmiles(smile)\n",
    "    g = nx.Graph()\n",
    "\n",
    "    for atom in mol.GetAtoms():\n",
    "        g.add_node(atom.GetIdx(),\n",
    "                   atom_symbol = atom.GetSymbol())\n",
    "    return g"
   ]
  },
  {
   "cell_type": "code",
   "execution_count": 9,
   "metadata": {},
   "outputs": [],
   "source": [
    "# conver to grakel graph objects with atom symbol as feature\n",
    "\n",
    "graphs = [smile_to_mol_graph(smile) for smile in smiles]\n",
    "grakel_graphs = grakel.graph_from_networkx(graphs,node_labels_tag='atom_symbol')"
   ]
  },
  {
   "cell_type": "code",
   "execution_count": 10,
   "metadata": {},
   "outputs": [
    {
     "data": {
      "text/html": [
       "<div>\n",
       "<style scoped>\n",
       "    .dataframe tbody tr th:only-of-type {\n",
       "        vertical-align: middle;\n",
       "    }\n",
       "\n",
       "    .dataframe tbody tr th {\n",
       "        vertical-align: top;\n",
       "    }\n",
       "\n",
       "    .dataframe thead th {\n",
       "        text-align: right;\n",
       "    }\n",
       "</style>\n",
       "<table border=\"1\" class=\"dataframe\">\n",
       "  <thead>\n",
       "    <tr style=\"text-align: right;\">\n",
       "      <th></th>\n",
       "      <th>0</th>\n",
       "      <th>1</th>\n",
       "      <th>2</th>\n",
       "      <th>3</th>\n",
       "      <th>4</th>\n",
       "      <th>5</th>\n",
       "    </tr>\n",
       "  </thead>\n",
       "  <tbody>\n",
       "    <tr>\n",
       "      <th>0</th>\n",
       "      <td>1.000000</td>\n",
       "      <td>0.983182</td>\n",
       "      <td>0.970035</td>\n",
       "      <td>0.955779</td>\n",
       "      <td>0.968147</td>\n",
       "      <td>0.946442</td>\n",
       "    </tr>\n",
       "    <tr>\n",
       "      <th>1</th>\n",
       "      <td>0.983182</td>\n",
       "      <td>1.000000</td>\n",
       "      <td>0.915321</td>\n",
       "      <td>0.900213</td>\n",
       "      <td>0.918241</td>\n",
       "      <td>0.897656</td>\n",
       "    </tr>\n",
       "    <tr>\n",
       "      <th>2</th>\n",
       "      <td>0.970035</td>\n",
       "      <td>0.915321</td>\n",
       "      <td>1.000000</td>\n",
       "      <td>0.996872</td>\n",
       "      <td>0.998507</td>\n",
       "      <td>0.976121</td>\n",
       "    </tr>\n",
       "    <tr>\n",
       "      <th>3</th>\n",
       "      <td>0.955779</td>\n",
       "      <td>0.900213</td>\n",
       "      <td>0.996872</td>\n",
       "      <td>1.000000</td>\n",
       "      <td>0.998969</td>\n",
       "      <td>0.976573</td>\n",
       "    </tr>\n",
       "    <tr>\n",
       "      <th>4</th>\n",
       "      <td>0.968147</td>\n",
       "      <td>0.918241</td>\n",
       "      <td>0.998507</td>\n",
       "      <td>0.998969</td>\n",
       "      <td>1.000000</td>\n",
       "      <td>0.977581</td>\n",
       "    </tr>\n",
       "    <tr>\n",
       "      <th>5</th>\n",
       "      <td>0.946442</td>\n",
       "      <td>0.897656</td>\n",
       "      <td>0.976121</td>\n",
       "      <td>0.976573</td>\n",
       "      <td>0.977581</td>\n",
       "      <td>1.000000</td>\n",
       "    </tr>\n",
       "  </tbody>\n",
       "</table>\n",
       "</div>"
      ],
      "text/plain": [
       "          0         1         2         3         4         5\n",
       "0  1.000000  0.983182  0.970035  0.955779  0.968147  0.946442\n",
       "1  0.983182  1.000000  0.915321  0.900213  0.918241  0.897656\n",
       "2  0.970035  0.915321  1.000000  0.996872  0.998507  0.976121\n",
       "3  0.955779  0.900213  0.996872  1.000000  0.998969  0.976573\n",
       "4  0.968147  0.918241  0.998507  0.998969  1.000000  0.977581\n",
       "5  0.946442  0.897656  0.976121  0.976573  0.977581  1.000000"
      ]
     },
     "metadata": {},
     "output_type": "display_data"
    }
   ],
   "source": [
    "# define WL kernel\n",
    "# highest similarity corresponds to correct RAx source analogue\n",
    "# visualize in notebook\n",
    "\n",
    "wl_kernel = grakel.WeisfeilerLehman(base_graph_kernel=grakel.VertexHistogram,normalize=True)\n",
    "p = wl_kernel.fit_transform(grakel_graphs)\n",
    "df = pd.DataFrame(p)\n",
    "display(df)"
   ]
  }
 ],
 "metadata": {
  "kernelspec": {
   "display_name": "Python 3 (ipykernel)",
   "language": "python",
   "name": "python3"
  },
  "language_info": {
   "codemirror_mode": {
    "name": "ipython",
    "version": 3
   },
   "file_extension": ".py",
   "mimetype": "text/x-python",
   "name": "python",
   "nbconvert_exporter": "python",
   "pygments_lexer": "ipython3",
   "version": "3.9.13"
  },
  "widgets": {
   "application/vnd.jupyter.widget-state+json": {
    "state": {},
    "version_major": 2,
    "version_minor": 0
   }
  }
 },
 "nbformat": 4,
 "nbformat_minor": 4
}
