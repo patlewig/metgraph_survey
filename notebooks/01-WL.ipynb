{
 "cells": [
  {
   "cell_type": "code",
   "execution_count": 1,
   "metadata": {},
   "outputs": [
    {
     "data": {
      "text/plain": [
       "'\\nsurvey_kernel_tutorial.ipynb\\n\\nNotebook containing WL kernel similarity tutorial for survey paper\\nthat operates on example RAx group of chemicals. Contains code from Oxford Protein Informatics Group to featureize\\nRDKit graphs.\\n\\nQA ID: I-CCED-0032994\\n\\nAuthor: Brett Hagan\\n\\nPI: Grace Patlewicz\\n\\nLast modified: 3/14/24\\n\\n'"
      ]
     },
     "execution_count": 1,
     "metadata": {},
     "output_type": "execute_result"
    }
   ],
   "source": [
    "'''\n",
    "survey_kernel_tutorial.ipynb\n",
    "\n",
    "Notebook containing WL kernel similarity tutorial for survey paper\n",
    "that operates on example RAx group of chemicals. Contains code from Oxford Protein Informatics Group to featureize\n",
    "RDKit graphs.\n",
    "\n",
    "QA ID: I-CCED-0032994\n",
    "\n",
    "Author: Brett Hagan\n",
    "\n",
    "PI: Grace Patlewicz\n",
    "\n",
    "Last modified: 3/14/24\n",
    "\n",
    "'''"
   ]
  },
  {
   "cell_type": "code",
   "execution_count": 1,
   "metadata": {},
   "outputs": [],
   "source": [
    "import matplotlib.pyplot as plt\n",
    "import grakel\n",
    "from rdkit import Chem\n",
    "import numpy as np\n",
    "import pandas as pd\n",
    "import networkx as nx"
   ]
  },
  {
   "cell_type": "code",
   "execution_count": 16,
   "metadata": {},
   "outputs": [],
   "source": [
    "# list of dtxsids and smiles from category\n",
    "dtxsids = ['2-Amino-4,6-Dinitrotoluene',\n",
    "'2,4,6-Trinitrotoluene',\n",
    "'2-Methyl-5-nitroaniline',\n",
    "'Isopropalin',\n",
    "'Pendimethalin',\n",
    "'Trifluralin'\n",
    "]\n",
    "\n",
    "smiles = ['CC1=C(C=C(C=C1N)[N+]([O-])=O)[N+]([O-])=O',\n",
    "'CC1=C(C=C(C=C1[N+]([O-])=O)[N+]([O-])=O)[N+]([O-])=O',\n",
    "'CC1=C(N)C=C(C=C1)[N+]([O-])=O',\n",
    "'CCCN(CCC)C1=C(C=C(C=C1[N+]([O-])=O)C(C)C)[N+]([O-])=O',\n",
    "'CCC(CC)NC1=C(C=C(C)C(C)=C1[N+]([O-])=O)[N+]([O-])=O',\n",
    "'CCCN(CCC)C1=C(C=C(C=C1[N+]([O-])=O)C(F)(F)F)[N+]([O-])=O'\n",
    "]"
   ]
  },
  {
   "cell_type": "code",
   "execution_count": 21,
   "metadata": {},
   "outputs": [],
   "source": [
    "# function to create molecular graphs from SMILES\n",
    "\n",
    "def smile_to_mol_graph(smile):\n",
    "    mol = Chem.MolFromSmiles(smile)\n",
    "    g = nx.Graph()\n",
    "\n",
    "    # Add nodes with atom symbols\n",
    "    for atom in mol.GetAtoms():\n",
    "        g.add_node(atom.GetIdx(), atom_symbol=atom.GetSymbol())\n",
    "    \n",
    "    # Add edges (bonds) with bond types\n",
    "    for bond in mol.GetBonds():\n",
    "        g.add_edge(bond.GetBeginAtomIdx(),\n",
    "                   bond.GetEndAtomIdx(),\n",
    "                   bond_type=bond.GetBondType())\n",
    "    return g"
   ]
  },
  {
   "cell_type": "code",
   "execution_count": 26,
   "metadata": {},
   "outputs": [],
   "source": [
    "# conver to grakel graph objects with atom symbol as feature\n",
    "\n",
    "graphs = [smile_to_mol_graph(smile) for smile in smiles]\n",
    "grakel_graphs = grakel.graph_from_networkx(graphs,node_labels_tag='atom_symbol')"
   ]
  },
  {
   "cell_type": "code",
   "execution_count": 23,
   "metadata": {},
   "outputs": [
    {
     "data": {
      "text/plain": [
       "[<networkx.classes.graph.Graph at 0x77cde2dd8550>,\n",
       " <networkx.classes.graph.Graph at 0x77cde2dd8820>,\n",
       " <networkx.classes.graph.Graph at 0x77cde2dd8a30>,\n",
       " <networkx.classes.graph.Graph at 0x77cde2dd87f0>,\n",
       " <networkx.classes.graph.Graph at 0x77cde2dd8b50>,\n",
       " <networkx.classes.graph.Graph at 0x77cde2dd8e80>]"
      ]
     },
     "execution_count": 23,
     "metadata": {},
     "output_type": "execute_result"
    }
   ],
   "source": [
    "graphs"
   ]
  },
  {
   "cell_type": "code",
   "execution_count": 24,
   "metadata": {},
   "outputs": [
    {
     "data": {
      "text/html": [
       "<div>\n",
       "<style scoped>\n",
       "    .dataframe tbody tr th:only-of-type {\n",
       "        vertical-align: middle;\n",
       "    }\n",
       "\n",
       "    .dataframe tbody tr th {\n",
       "        vertical-align: top;\n",
       "    }\n",
       "\n",
       "    .dataframe thead th {\n",
       "        text-align: right;\n",
       "    }\n",
       "</style>\n",
       "<table border=\"1\" class=\"dataframe\">\n",
       "  <thead>\n",
       "    <tr style=\"text-align: right;\">\n",
       "      <th></th>\n",
       "      <th>0</th>\n",
       "      <th>1</th>\n",
       "      <th>2</th>\n",
       "      <th>3</th>\n",
       "      <th>4</th>\n",
       "      <th>5</th>\n",
       "    </tr>\n",
       "  </thead>\n",
       "  <tbody>\n",
       "    <tr>\n",
       "      <th>0</th>\n",
       "      <td>1.000000</td>\n",
       "      <td>0.877781</td>\n",
       "      <td>0.734344</td>\n",
       "      <td>0.656103</td>\n",
       "      <td>0.703633</td>\n",
       "      <td>0.616602</td>\n",
       "    </tr>\n",
       "    <tr>\n",
       "      <th>1</th>\n",
       "      <td>0.877781</td>\n",
       "      <td>1.000000</td>\n",
       "      <td>0.633474</td>\n",
       "      <td>0.597295</td>\n",
       "      <td>0.646695</td>\n",
       "      <td>0.569431</td>\n",
       "    </tr>\n",
       "    <tr>\n",
       "      <th>2</th>\n",
       "      <td>0.734344</td>\n",
       "      <td>0.633474</td>\n",
       "      <td>1.000000</td>\n",
       "      <td>0.670563</td>\n",
       "      <td>0.699910</td>\n",
       "      <td>0.616493</td>\n",
       "    </tr>\n",
       "    <tr>\n",
       "      <th>3</th>\n",
       "      <td>0.656103</td>\n",
       "      <td>0.597295</td>\n",
       "      <td>0.670563</td>\n",
       "      <td>1.000000</td>\n",
       "      <td>0.763393</td>\n",
       "      <td>0.853267</td>\n",
       "    </tr>\n",
       "    <tr>\n",
       "      <th>4</th>\n",
       "      <td>0.703633</td>\n",
       "      <td>0.646695</td>\n",
       "      <td>0.699910</td>\n",
       "      <td>0.763393</td>\n",
       "      <td>1.000000</td>\n",
       "      <td>0.696215</td>\n",
       "    </tr>\n",
       "    <tr>\n",
       "      <th>5</th>\n",
       "      <td>0.616602</td>\n",
       "      <td>0.569431</td>\n",
       "      <td>0.616493</td>\n",
       "      <td>0.853267</td>\n",
       "      <td>0.696215</td>\n",
       "      <td>1.000000</td>\n",
       "    </tr>\n",
       "  </tbody>\n",
       "</table>\n",
       "</div>"
      ],
      "text/plain": [
       "          0         1         2         3         4         5\n",
       "0  1.000000  0.877781  0.734344  0.656103  0.703633  0.616602\n",
       "1  0.877781  1.000000  0.633474  0.597295  0.646695  0.569431\n",
       "2  0.734344  0.633474  1.000000  0.670563  0.699910  0.616493\n",
       "3  0.656103  0.597295  0.670563  1.000000  0.763393  0.853267\n",
       "4  0.703633  0.646695  0.699910  0.763393  1.000000  0.696215\n",
       "5  0.616602  0.569431  0.616493  0.853267  0.696215  1.000000"
      ]
     },
     "metadata": {},
     "output_type": "display_data"
    }
   ],
   "source": [
    "# define WL kernel\n",
    "# highest similarity corresponds to correct RAx source analogue\n",
    "# visualize in notebook\n",
    "\n",
    "wl_kernel = grakel.WeisfeilerLehman(base_graph_kernel=grakel.VertexHistogram,normalize=True)\n",
    "p = wl_kernel.fit_transform(grakel_graphs)\n",
    "df = pd.DataFrame(p)\n",
    "display(df)"
   ]
  },
  {
   "cell_type": "code",
   "execution_count": 27,
   "metadata": {},
   "outputs": [],
   "source": [
    "from grakel import GraphKernel\n",
    "# Initialize Graphlet Kernel\n",
    "gk = GraphKernel(kernel=[\"graphlet_sampling\"], normalize=True)\n",
    "\n",
    "# Compute Kernel Matrix\n",
    "kernel_matrix = gk.fit_transform(grakel_graphs)\n"
   ]
  },
  {
   "cell_type": "code",
   "execution_count": 29,
   "metadata": {},
   "outputs": [
    {
     "data": {
      "text/html": [
       "<div>\n",
       "<style scoped>\n",
       "    .dataframe tbody tr th:only-of-type {\n",
       "        vertical-align: middle;\n",
       "    }\n",
       "\n",
       "    .dataframe tbody tr th {\n",
       "        vertical-align: top;\n",
       "    }\n",
       "\n",
       "    .dataframe thead th {\n",
       "        text-align: right;\n",
       "    }\n",
       "</style>\n",
       "<table border=\"1\" class=\"dataframe\">\n",
       "  <thead>\n",
       "    <tr style=\"text-align: right;\">\n",
       "      <th></th>\n",
       "      <th>0</th>\n",
       "      <th>1</th>\n",
       "      <th>2</th>\n",
       "      <th>3</th>\n",
       "      <th>4</th>\n",
       "      <th>5</th>\n",
       "    </tr>\n",
       "  </thead>\n",
       "  <tbody>\n",
       "    <tr>\n",
       "      <th>0</th>\n",
       "      <td>1.000000</td>\n",
       "      <td>0.993798</td>\n",
       "      <td>0.993249</td>\n",
       "      <td>0.977407</td>\n",
       "      <td>0.987774</td>\n",
       "      <td>0.987481</td>\n",
       "    </tr>\n",
       "    <tr>\n",
       "      <th>1</th>\n",
       "      <td>0.993798</td>\n",
       "      <td>1.000000</td>\n",
       "      <td>0.999988</td>\n",
       "      <td>0.994849</td>\n",
       "      <td>0.998983</td>\n",
       "      <td>0.998793</td>\n",
       "    </tr>\n",
       "    <tr>\n",
       "      <th>2</th>\n",
       "      <td>0.993249</td>\n",
       "      <td>0.999988</td>\n",
       "      <td>1.000000</td>\n",
       "      <td>0.995327</td>\n",
       "      <td>0.999189</td>\n",
       "      <td>0.999004</td>\n",
       "    </tr>\n",
       "    <tr>\n",
       "      <th>3</th>\n",
       "      <td>0.977407</td>\n",
       "      <td>0.994849</td>\n",
       "      <td>0.995327</td>\n",
       "      <td>1.000000</td>\n",
       "      <td>0.998408</td>\n",
       "      <td>0.998313</td>\n",
       "    </tr>\n",
       "    <tr>\n",
       "      <th>4</th>\n",
       "      <td>0.987774</td>\n",
       "      <td>0.998983</td>\n",
       "      <td>0.999189</td>\n",
       "      <td>0.998408</td>\n",
       "      <td>1.000000</td>\n",
       "      <td>0.999852</td>\n",
       "    </tr>\n",
       "    <tr>\n",
       "      <th>5</th>\n",
       "      <td>0.987481</td>\n",
       "      <td>0.998793</td>\n",
       "      <td>0.999004</td>\n",
       "      <td>0.998313</td>\n",
       "      <td>0.999852</td>\n",
       "      <td>1.000000</td>\n",
       "    </tr>\n",
       "  </tbody>\n",
       "</table>\n",
       "</div>"
      ],
      "text/plain": [
       "          0         1         2         3         4         5\n",
       "0  1.000000  0.993798  0.993249  0.977407  0.987774  0.987481\n",
       "1  0.993798  1.000000  0.999988  0.994849  0.998983  0.998793\n",
       "2  0.993249  0.999988  1.000000  0.995327  0.999189  0.999004\n",
       "3  0.977407  0.994849  0.995327  1.000000  0.998408  0.998313\n",
       "4  0.987774  0.998983  0.999189  0.998408  1.000000  0.999852\n",
       "5  0.987481  0.998793  0.999004  0.998313  0.999852  1.000000"
      ]
     },
     "execution_count": 29,
     "metadata": {},
     "output_type": "execute_result"
    }
   ],
   "source": [
    "pd.DataFrame(kernel_matrix)"
   ]
  },
  {
   "cell_type": "markdown",
   "metadata": {},
   "source": [
    "Graphlet Kernel: Focuses on counting small connected subgraphs (graphlets) within the molecular graphs. This could add fine-grained comparison for small datasets."
   ]
  },
  {
   "cell_type": "code",
   "execution_count": 30,
   "metadata": {},
   "outputs": [
    {
     "name": "stdout",
     "output_type": "stream",
     "text": [
      "Collecting gensim\n",
      "  Downloading gensim-4.3.3-cp311-cp311-manylinux_2_17_x86_64.manylinux2014_x86_64.whl.metadata (8.1 kB)\n",
      "Collecting numpy<2.0,>=1.18.5 (from gensim)\n",
      "  Downloading numpy-1.26.4-cp311-cp311-manylinux_2_17_x86_64.manylinux2014_x86_64.whl.metadata (61 kB)\n",
      "Collecting scipy<1.14.0,>=1.7.0 (from gensim)\n",
      "  Downloading scipy-1.13.1-cp311-cp311-manylinux_2_17_x86_64.manylinux2014_x86_64.whl.metadata (60 kB)\n",
      "Collecting smart-open>=1.8.1 (from gensim)\n",
      "  Downloading smart_open-7.0.5-py3-none-any.whl.metadata (24 kB)\n",
      "Collecting wrapt (from smart-open>=1.8.1->gensim)\n",
      "  Downloading wrapt-1.17.0-cp311-cp311-manylinux_2_5_x86_64.manylinux1_x86_64.manylinux_2_17_x86_64.manylinux2014_x86_64.whl.metadata (6.4 kB)\n",
      "Downloading gensim-4.3.3-cp311-cp311-manylinux_2_17_x86_64.manylinux2014_x86_64.whl (26.7 MB)\n",
      "\u001b[2K   \u001b[38;2;114;156;31m━━━━━━━━━━━━━━━━━━━━━━━━━━━━━━━━━━━━━━━━\u001b[0m \u001b[32m26.7/26.7 MB\u001b[0m \u001b[31m45.0 MB/s\u001b[0m eta \u001b[36m0:00:00\u001b[0mm eta \u001b[36m0:00:01\u001b[0m0:01\u001b[0m\n",
      "\u001b[?25hDownloading numpy-1.26.4-cp311-cp311-manylinux_2_17_x86_64.manylinux2014_x86_64.whl (18.3 MB)\n",
      "\u001b[2K   \u001b[38;2;114;156;31m━━━━━━━━━━━━━━━━━━━━━━━━━━━━━━━━━━━━━━━━\u001b[0m \u001b[32m18.3/18.3 MB\u001b[0m \u001b[31m44.9 MB/s\u001b[0m eta \u001b[36m0:00:00\u001b[0mm eta \u001b[36m0:00:01\u001b[0m[36m0:00:01\u001b[0m\n",
      "\u001b[?25hDownloading scipy-1.13.1-cp311-cp311-manylinux_2_17_x86_64.manylinux2014_x86_64.whl (38.6 MB)\n",
      "\u001b[2K   \u001b[38;2;114;156;31m━━━━━━━━━━━━━━━━━━━━━━━━━━━━━━━━━━━━━━━━\u001b[0m \u001b[32m38.6/38.6 MB\u001b[0m \u001b[31m49.7 MB/s\u001b[0m eta \u001b[36m0:00:00\u001b[0m MB/s\u001b[0m eta \u001b[36m0:00:01\u001b[0m\n",
      "\u001b[?25hDownloading smart_open-7.0.5-py3-none-any.whl (61 kB)\n",
      "Downloading wrapt-1.17.0-cp311-cp311-manylinux_2_5_x86_64.manylinux1_x86_64.manylinux_2_17_x86_64.manylinux2014_x86_64.whl (83 kB)\n",
      "Installing collected packages: wrapt, numpy, smart-open, scipy, gensim\n",
      "  Attempting uninstall: numpy\n",
      "    Found existing installation: numpy 2.1.3\n",
      "    Uninstalling numpy-2.1.3:\n",
      "      Successfully uninstalled numpy-2.1.3\n",
      "  Attempting uninstall: scipy\n",
      "    Found existing installation: scipy 1.14.1\n",
      "    Uninstalling scipy-1.14.1:\n",
      "      Successfully uninstalled scipy-1.14.1\n",
      "Successfully installed gensim-4.3.3 numpy-1.26.4 scipy-1.13.1 smart-open-7.0.5 wrapt-1.17.0\n"
     ]
    }
   ],
   "source": [
    "!pip install gensim"
   ]
  },
  {
   "cell_type": "code",
   "execution_count": null,
   "metadata": {},
   "outputs": [],
   "source": []
  }
 ],
 "metadata": {
  "kernelspec": {
   "display_name": "cuda-gpt",
   "language": "python",
   "name": "cuda"
  },
  "language_info": {
   "codemirror_mode": {
    "name": "ipython",
    "version": 3
   },
   "file_extension": ".py",
   "mimetype": "text/x-python",
   "name": "python",
   "nbconvert_exporter": "python",
   "pygments_lexer": "ipython3",
   "version": "3.9.13"
  },
  "widgets": {
   "application/vnd.jupyter.widget-state+json": {
    "state": {},
    "version_major": 2,
    "version_minor": 0
   }
  }
 },
 "nbformat": 4,
 "nbformat_minor": 4
}
