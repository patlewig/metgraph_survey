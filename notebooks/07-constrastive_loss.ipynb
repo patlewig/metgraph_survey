{
 "cells": [
  {
   "cell_type": "markdown",
   "id": "9e90e666-fe6a-4bbe-bb0f-d7596e7f8d5d",
   "metadata": {},
   "source": [
    "# Contrastive Loss"
   ]
  },
  {
   "cell_type": "code",
   "execution_count": 1,
   "id": "b3a51f5a-91ad-4b2f-b5ff-5e69ee806341",
   "metadata": {},
   "outputs": [
    {
     "name": "stdout",
     "output_type": "stream",
     "text": [
      "Epoch 1, Loss: 0.3436333356159074\n",
      "Epoch 2, Loss: 0.2594407738319465\n",
      "Epoch 3, Loss: 0.10254170213426862\n",
      "Epoch 4, Loss: 0.09385412532304015\n",
      "Epoch 5, Loss: 0.04112052909372973\n",
      "Epoch 6, Loss: 0.0378460675378197\n",
      "Epoch 7, Loss: 0.04739623440296522\n",
      "Epoch 8, Loss: 0.01095719076693058\n",
      "Epoch 9, Loss: 0.010216679224478347\n",
      "Epoch 10, Loss: 0.006144822067913732\n",
      "Embedding: tensor([[-0.1480,  0.1684,  0.0615, -0.0494, -0.1677, -0.0519, -0.0237, -0.0431,\n",
      "          0.2677, -0.1457, -0.2233,  0.1102,  0.1390, -0.2684,  0.2947, -0.1332,\n",
      "          0.0673, -0.1382,  0.3326, -0.1083, -0.0734, -0.0244,  0.2734, -0.0089,\n",
      "         -0.1972, -0.1327, -0.0504,  0.3559,  0.0930, -0.3089, -0.0335,  0.2512,\n",
      "         -0.1602, -0.2937,  0.1157,  0.2944,  0.2510, -0.1548,  0.4781, -0.2169,\n",
      "         -0.0094,  0.4833,  0.2468, -0.0541,  0.1635, -0.0592, -0.3351,  0.0754,\n",
      "         -0.1574,  0.0169, -0.0236, -0.3096,  0.3379, -0.0285,  0.1350,  0.1275,\n",
      "          0.0137,  0.2121,  0.2314,  0.1047,  0.2154,  0.2253,  0.4446,  0.0669,\n",
      "          0.0720, -0.2995,  0.0457, -0.1710,  0.1321, -0.1691,  0.2694, -0.3316,\n",
      "          0.3226, -0.3453,  0.1171, -0.1627,  0.2113, -0.1813,  0.1269, -0.0697,\n",
      "         -0.0082, -0.1075,  0.2281,  0.2601,  0.2048, -0.0264,  0.1087,  0.0221,\n",
      "         -0.1406,  0.1678, -0.1685,  0.1184,  0.1668, -0.1136, -0.2140, -0.2326,\n",
      "          0.0587, -0.0608, -0.2085, -0.1087,  0.0832,  0.1066, -0.1904,  0.1373,\n",
      "          0.1472, -0.1492, -0.0798, -0.0744, -0.3489, -0.2059, -0.4271,  0.4643,\n",
      "         -0.0361,  0.1437, -0.0752,  0.1681,  0.3340,  0.3659,  0.0814,  0.1976,\n",
      "         -0.1739,  0.1341,  0.1802, -0.2271,  0.0498,  0.1246,  0.0574, -0.0401]])\n"
     ]
    }
   ],
   "source": [
    "import torch\n",
    "import torch.nn as nn\n",
    "import torch.optim as optim\n",
    "from torch.utils.data import DataLoader, Dataset\n",
    "import numpy as np\n",
    "\n",
    "# Example dataset\n",
    "class ChemicalPairsDataset(Dataset):\n",
    "    def __init__(self, fingerprint_pairs, labels):\n",
    "        \"\"\"\n",
    "        fingerprint_pairs: List of (fp1, fp2) pairs (e.g., numpy arrays)\n",
    "        labels: List of 1 (similar) or 0 (dissimilar) for each pair\n",
    "        \"\"\"\n",
    "        self.fingerprint_pairs = fingerprint_pairs\n",
    "        self.labels = labels\n",
    "\n",
    "    def __len__(self):\n",
    "        return len(self.labels)\n",
    "\n",
    "    def __getitem__(self, idx):\n",
    "        fp1, fp2 = self.fingerprint_pairs[idx]\n",
    "        label = self.labels[idx]\n",
    "        return torch.tensor(fp1, dtype=torch.float32), torch.tensor(fp2, dtype=torch.float32), label\n",
    "\n",
    "\n",
    "# Define the model\n",
    "class ContrastiveNetwork(nn.Module):\n",
    "    def __init__(self, input_dim, embedding_dim):\n",
    "        super(ContrastiveNetwork, self).__init__()\n",
    "        self.encoder = nn.Sequential(\n",
    "            nn.Linear(input_dim, 256),\n",
    "            nn.ReLU(),\n",
    "            nn.Linear(256, embedding_dim)\n",
    "        )\n",
    "\n",
    "    def forward(self, x):\n",
    "        return self.encoder(x)\n",
    "\n",
    "# Contrastive loss function\n",
    "class ContrastiveLoss(nn.Module):\n",
    "    def __init__(self, margin=1.0):\n",
    "        super(ContrastiveLoss, self).__init__()\n",
    "        self.margin = margin\n",
    "\n",
    "    def forward(self, embedding1, embedding2, label):\n",
    "        distance = torch.nn.functional.pairwise_distance(embedding1, embedding2)\n",
    "        loss = torch.mean(\n",
    "            label * torch.pow(distance, 2) +  # Pull similar pairs\n",
    "            (1 - label) * torch.pow(torch.clamp(self.margin - distance, min=0.0), 2)  # Push dissimilar pairs\n",
    "        )\n",
    "        return loss\n",
    "\n",
    "# Example usage\n",
    "# Generate synthetic fingerprints for demonstration\n",
    "np.random.seed(42)\n",
    "fingerprints = [np.random.rand(1024) for _ in range(100)]  # Replace with actual fingerprints\n",
    "pairs = [(fingerprints[i], fingerprints[i + 1]) for i in range(0, 99, 2)]\n",
    "labels = [1 if i % 2 == 0 else 0 for i in range(len(pairs))]  # Dummy labels\n",
    "\n",
    "# Create DataLoader\n",
    "dataset = ChemicalPairsDataset(pairs, labels)\n",
    "dataloader = DataLoader(dataset, batch_size=8, shuffle=True)\n",
    "\n",
    "# Initialize model and optimizer\n",
    "input_dim = 1024\n",
    "embedding_dim = 128\n",
    "model = ContrastiveNetwork(input_dim, embedding_dim)\n",
    "criterion = ContrastiveLoss(margin=1.0)\n",
    "optimizer = optim.Adam(model.parameters(), lr=0.001)\n",
    "\n",
    "# Training loop\n",
    "for epoch in range(10):\n",
    "    total_loss = 0.0\n",
    "    for fp1, fp2, label in dataloader:\n",
    "        optimizer.zero_grad()\n",
    "        emb1 = model(fp1)\n",
    "        emb2 = model(fp2)\n",
    "        loss = criterion(emb1, emb2, label.float())\n",
    "        loss.backward()\n",
    "        optimizer.step()\n",
    "        total_loss += loss.item()\n",
    "    print(f\"Epoch {epoch+1}, Loss: {total_loss / len(dataloader)}\")\n",
    "\n",
    "# Extract embeddings for downstream tasks\n",
    "with torch.no_grad():\n",
    "    test_fp = torch.tensor(fingerprints[0], dtype=torch.float32).unsqueeze(0)\n",
    "    embedding = model(test_fp)\n",
    "    print(f\"Embedding: {embedding}\")"
   ]
  },
  {
   "cell_type": "code",
   "execution_count": 4,
   "id": "ce1a3830-5cd3-4778-88d5-6f4435b4ace1",
   "metadata": {},
   "outputs": [
    {
     "data": {
      "text/plain": [
       "(array([0.37454012, 0.95071431, 0.73199394, ..., 0.29734901, 0.9243962 ,\n",
       "        0.97105825]),\n",
       " array([0.94426649, 0.47421422, 0.86204265, ..., 0.7228143 , 0.06766836,\n",
       "        0.7078351 ]))"
      ]
     },
     "execution_count": 4,
     "metadata": {},
     "output_type": "execute_result"
    }
   ],
   "source": [
    "pairs[0]"
   ]
  },
  {
   "cell_type": "code",
   "execution_count": null,
   "id": "3acac110-2198-44da-b02c-8d0484b6782d",
   "metadata": {},
   "outputs": [],
   "source": []
  }
 ],
 "metadata": {
  "kernelspec": {
   "display_name": "pytorch_cuda",
   "language": "python",
   "name": "pytorch_cuda"
  },
  "language_info": {
   "codemirror_mode": {
    "name": "ipython",
    "version": 3
   },
   "file_extension": ".py",
   "mimetype": "text/x-python",
   "name": "python",
   "nbconvert_exporter": "python",
   "pygments_lexer": "ipython3",
   "version": "3.11.10"
  },
  "widgets": {
   "application/vnd.jupyter.widget-state+json": {
    "state": {},
    "version_major": 2,
    "version_minor": 0
   }
  }
 },
 "nbformat": 4,
 "nbformat_minor": 5
}
