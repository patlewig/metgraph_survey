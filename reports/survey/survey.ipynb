{
 "cells": [
  {
   "cell_type": "raw",
   "metadata": {},
   "source": [
    "---\n",
    "title: \"Evaluating the utility of graph similarity metrics in quantitative read-across: A tutorial\"\n",
    "\n",
    "author:\n",
    "  - name: Brett Hagan\n",
    "    affiliations: \n",
    "        - id: orau\n",
    "          name: ORAU\n",
    "          department: Oak Ridge Associated Universities\n",
    "          city: Oak Ridge\n",
    "          state: TN\n",
    "          postal-code: TN, USA\n",
    "        - id: ccte\n",
    "          name: Center for Computational Toxicology and Exposure (CCTE)\n",
    "          department: Office of Research and Development, US Environment Protection Agency\n",
    "          address: 109 TW Alexander Dr\n",
    "          city: Research Triangle Park\n",
    "          postal-code: NC 27711 USA        \n",
    "    attributes:\n",
    "        corresponding: False\n",
    "  - name: Louis Groff\n",
    "    affiliations:\n",
    "        - ref: ccte\n",
    "  - name: Imran Shah\n",
    "    affiliations:\n",
    "        - ref: ccte\n",
    "  - name: Grace Patlewicz\n",
    "    email: patlewicz.grace@epa.gov\n",
    "    affilations:\n",
    "        - ref: ccte\n",
    "    attributes:\n",
    "       corresponding: True\n",
    "abstract: |\n",
    "  Read-across is a popular technique for filling data gaps for substances lacking empirical data. The approach relies on identifying source analogues with relevant data that are ‘similar’ to a target substance. Typically source analogues are identified on the basis of structural similarity but the evaluation of their suitability for read-across depends on other contexts of similarity including their physical property information, chemical reactivity, bioactivity and metabolism. Whilst quantifying structural similarity is well established, relying on chemical fingerprints and using a similarity index such as Tanimoto to limit the number of analogues returned, characterizing other aspects of similarity objectively remains a challenge. The use of graph analytical approaches has become an increasingly important tool that is employed in a wide variety of domains. Since many different aspects of a substance and its associated properties lend themselves to being represented by graphs, using graph similarity offers new ways in which analogues could be identified and evaluated for read-across purposes. This manuscript considered the application of graph similarity measurements for read-across. Several different methods were discussed, which have been divided into three categories; graph kernel approaches, graph embedding approaches, and deep learning (DL) approaches. Each approach was described in brief together with a practical example to illustrate the application for read-across purposes.\n",
    "keywords: \n",
    "  -  Read-Across \n",
    "  -  Graph similarity\n",
    "  -  Graph kernels\n",
    "  -  Graph convolutional networks (GCNs)\n",
    "date: last-modified\n",
    "bibliography: bibliography.bib\n",
    "mainfont: Comic Sans MS\n",
    "linestretch: 1.5\n",
    "format:\n",
    "  elsevier-pdf:\n",
    "      header-includes:\n",
    "        - \\usepackage{lineno}\n",
    "        - \\usepackage{caption}\n",
    "      keep-tex: true\n",
    "      journal:\n",
    "        name: Elsevier\n",
    "        formatting: preprint\n",
    "        model: 3p\n",
    "        cite-style: super\n",
    "  docx:\n",
    "        number-sections: true\n",
    "execute:\n",
    "  echo: false\n",
    "jupyter: py39\n",
    "---"
   ]
  },
  {
   "cell_type": "markdown",
   "metadata": {},
   "source": [
    "# Introduction"
   ]
  },
  {
   "cell_type": "markdown",
   "metadata": {},
   "source": [
    "## Background to Read-Across  {#sec-background}"
   ]
  },
  {
   "cell_type": "markdown",
   "metadata": {},
   "source": [
    "An overwhelming and ever-increasing number of substances exist in commerce, of which only a small proportion have undergone sufficient toxicological evaluation. Assessing each chemical in turn presents a significant and impractical challenge in terms of cost, animal welfare, and resources [@nrc_toxicity_1984]. *In vitro* and *in silico* approaches have the potential to play a large role in the assessment of chemicals that lack empirical data. *In silico* approaches encompass (quantitative) structure activity relationships ((Q)SAR) as well as read-across (RAx), both of which relate chemical structural properties to (eco)toxicological or physical property endpoints. RAx is probably the most commonly used data gap filling technique for regulatory purposes, notably it is cited as the most commonly used adaptation to address information requirements under the European Union's Registration Evaluation and Authorisation of Chemicals (REACH) regulation [@eu_regulation_2006;@macmillan_last_2024]. In brief, RAx describes the method for filling a data gap whereby a substance with existing data (termed the 'source analogue') is used to make a prediction of the same property for a 'target' substance with limited available empirical data. These predictions operate on the assumption that the source and target substances are 'similar' in some context with relevant information pertaining to a specific outcome [@enoch_chemical_2010;@oecd_guidance_2014]. Key to this approach is the characterization of similarity. Although structural similarity is typically the most common approach used to identify candidate source analogues, other similarity contexts namely similarity in physicochemical properties, metabolism, toxicokinetics, chemical reactivity, bioactivity and toxicological profile also play a significant role in justifying those source analogues for read-across. This is evident in the assessment frameworks that have been published such as the European Chemicals Agency's Read-Across Assessment Framework (RAAF) [@european_chemicals_agency_read-across_2017] as well as the analogue workflow underpinning the US Environmental Protection Agency's Provisional Peer Review Toxicity Values (PPRTV) [@wang_application_2012]. \n",
    "For example, metabolic similarity considers the similarity of transformation pathways as determined in experimental studies or the commonality of metabolites formed. Physicochemical similarity compares certain physical property information such as LogKow, melting point, boiling point etc. of source analogues relative to the target chemical to determine whether physical form and partitioning are likely to be the same. Similarity in toxicity assesses available empirical data to identify whether target organs impacted are the same and whether the potencies are comparable or follow a specific trend. Such similarity context assessments are largely qualitative and heavily reliant on expert judgement in concert with empirical data [@patlewicz_building_2015]. This does result in challenges in terms of reproducibility, scalability and acceptance for regulatory purposes [@shah_systematically_2016]. Indeed, RAx as a technique has been in use for well over 20 years, but hesitation regarding the adoption of the approach for certain regulatory contexts (e.g. risk assessment) or within specific jurisdictions remains [@patlewicz_towards_2023]. \n",
    "Thus, progress towards approaches that may increase confidence in and reduce the levels of inherent uncertainty in RAx predictions remain of vital importance in the ongoing adoption of RAx for regulatory purposes. Significant effort has been directed towards the evaluation of confidence in analogue selection in RAx across a wide range of studies [@patlewicz_building_2015;@blackburn_framework_2014;@schultz_assessing_2019;@wu_framework_2010;@patlewicz_navigating_2018]. Several studies have aimed to define frameworks for characterizing uncertainty [@schultz_assessing_2019;@schultz_strategy_2015;@blackburn_framework_2014;@patlewicz_navigating_2018], others have demonstrated how high-throughput screening data can be helpful in substantiating RAx justifications [@escher_towards_2019;@patlewicz_navigating_2018;@rovida_nam-supported_2021] by providing some evidence of mechanistic or biological similarity. The European Chemicals Agency (ECHA) have developed a read-across assessment framework to address this need [@european_chemicals_agency_read-across_2017] whereas the Organisation of Economic and Co-operative Development (OECD) have been facilitating the development of case studies with the aim of updating existing grouping technical guidance [@oecd_guidance_2014]  with one focus being on reducing read-across uncertainties [@OECD_IATA]. \n",
    "\n",
    "In our own studies, Generalized Read-Across (GenRA) [@shah_systematically_2016;@patlewicz_towards_2023] was created with the goals of quantifying performance and uncertainty by establishing consistent performance baselines and quantifying the contribution of different similarity contexts play in identifying of source analogues or making toxicity predictions. Within GenRA (and RAx in general), approaches typically use structural information such as chemical fingerprints to identify candidate source analogues. Many software tools exist that facilitate this type of analogue searching, including the similarity searches within the EPA CompTox Chemicals Dashboard [@williams_comptox_2017],  [PubChem](https://pubchem.ncbi.nlm.nih.gov/), as well as the many functionalities within the OECD Toolbox (qsartoolbox.org) [@schultz_oecd_2018]. There have been a number of efforts to study additional sources of information to perform RAx, including the use of physiochemical [@helman_extending_2018], mechanistic [@escher_towards_2019], bioactivity [@shah_systematically_2016;@escher_towards_2019], and metabolic data [@lester_quantifying_2023;@gadaleta_automated_2020]. Within GenRA, research has continued to systematically evaluate the impact that different types of similarity play in read-across for the prediction of *in vivo* toxicity outcomes[@patlewicz_systematic_2024;@tate_repeat-dose_2021;@helman_extending_2018;@nelms_mechanistic_2018;@boyce_comparing_2022] along with implementing the insights learned into the GenRA (www.comptox.gov/genra) web application [@patlewicz_towards_2023;@shah_genra_2024].\n"
   ]
  },
  {
   "cell_type": "markdown",
   "metadata": {},
   "source": [
    "## Source analogue identification"
   ]
  },
  {
   "cell_type": "markdown",
   "metadata": {},
   "source": [
    "As mentioned in @sec-background, there are a number of software tools that facilitate the identification of source analogues. Most of these use structural similarity as a basis to return analogues. This can be done in two main ways - either by a descriptor-based similarity calculation or a substructure-based  assessment [@kunimoto_maximum_2016]. In practice, this means that a software tool contains a large database (or dataset) of chemical substances which serves as a source analogue inventory. To identify analogues, a search query is then performed using the target substance of interest to return candidate analogues. In a substructure-based approach, a determination of the substructures shared with the target substance are made or matched molecular pairs [@oboyle_using_2014;@noauthor_matched_2021] are generated to identify common core structures that are distinguished at a given site. Such substructure-based calculations are binary - either the target and source analogues share a pre-defined substructure or not, therefore no adjustable threshold exists to tune the returned set of candidate analogues. On the otherhand, the hits returned are often chemical intuitive and interpretable.\n",
    "\n",
    "In a descriptor-based approach, the key considerations are how the substances forming the source inventory are represented numerically and what metric is used to quantify a specific threshold of similarity. Source analogues can be characterized by 1D, 2D or 3D representations of structures or hybrids of these. For the aforementioned tools, 1D binary chemical fingerprints are frequently used for practical efficiency especially when a source inventory contains large numbers of substances e.g. 1 million substances. A target substance will then be converted into the same chemical fingerprint representation and a query based on pairwise similarities will return a number of candidates based on the similarity threshold set. The similarity threshold is a quantitative measure between 0 and 1 that summarizes the commonality in structure based on the presence and absence of particular chemical fingerprints. By far, the most common similarity index that is used in the Tanimoto (Jaccard) index [@bajusz_why_2015] though there are a number of other similarity indices that can also be used [@bajusz_why_2015;@floris_generalizable_2014]. \n",
    "There are several types of chemical fingerprints, one of the most popular is the Morgan fingerprint [@rogers_extended-connectivity_2010], also known as the extended connectivity fingerprint (ECFP4).This perceives the presence of specific circular fragments around each atom in a molecule. It relies on the fragmentation of a molecule into circular fragments with each atom encoded as atom types. Other fingerprints are termed key or dictionary fingerprints where there is a defined fixed set of substructural features representing molecular characteristics. MACCS (Molecular Access System by Molecular Design Limited) [@durant_reoptimization_2002] and ChemoType ToxPrints [@yang_new_2015] are examples of these.  Atom pairs is another example where an algortihm of atom typing is performed such that certain values for each atom of a molecule is computed [@carhart_atom_1985]. In each case, the fingerprint is represented as a bit string or binary vector that can be used to search for source analogues.\n"
   ]
  },
  {
   "cell_type": "markdown",
   "metadata": {},
   "source": [
    "Chemical fingerprints have proved useful for fast similarity comparisons as well as inputs into development of QSARs for different activity outcomes in particular toxicity endpoints. Regardless of the fingerprint type, there are always limitations in how a chemical may be represented to capture the aspects important for toxicity prediction. For example, circular fingerprints are typically poor at perceiving global features of a molecule (e.g. size or shape) and may fail to discriminate between subtle changes between 2 small molecules. In any case, chemical fingerprints represent a simplified representation of a chemical that may be insufficient to resolve differences in toxicity outcomes. \n",
    "\n",
    "Consideration of the other similarity contexts offers a means of addressing this shortcoming although leveraging the inherent representation of a chemical structure as a graph, with atoms as nodes and bonds as edges, offers alternative opportunities to eliminate the need for precomputed features and fingerprints."
   ]
  },
  {
   "cell_type": "markdown",
   "metadata": {},
   "source": [
    "## Graph Terminology"
   ]
  },
  {
   "cell_type": "markdown",
   "metadata": {},
   "source": [
    "For context, a few of the pertinent terms/definitions associated with graphs are described. A graph $$ G(V, E) $$ is a visual representation of a collection of nodes (also called vertices depending on domain) and edges that connect these nodes providing a structure to represent entities and their relationships. There are three main types of edges that are typically found in a graph: undirected edges, directed edges and weighted edges. \n",
    " \n"
   ]
  },
  {
   "cell_type": "markdown",
   "metadata": {},
   "source": [
    "@fig-gg provides an example of an undirected graph with 5 nodes and 5 edges and the corresponding directed graph.\n",
    "\n",
    "::: {#fig-gg layout-nrow=\"2\"}\n",
    "![An undirected graph G with 5 nodes and 5 edges](fig-gp.png){#fig-gp width=\"30%\"}\n",
    "![A directed graph G with 5 nodes and 5 edges](fig-gpd.png){#fig-gpd width=\"30%\"}\n",
    "\n",
    "Undirected and directed graph with 5 nodes and 5 edges.\n",
    ":::\n"
   ]
  },
  {
   "cell_type": "markdown",
   "metadata": {},
   "source": [
    "Undirected edges are those which identify a connection between nodes but without a given \"flow\". Directed edges are those where is a clear direction between nodes e.g. within a metabolic graph where a parent chemical transforms into a metabolite. Weighted edges can occur in both directed or undirected edges to depict some quantitative value e.g. the rate of disappearance of parent chemical to its corresponding metabolite.\n",
    "\n"
   ]
  },
  {
   "cell_type": "markdown",
   "metadata": {},
   "source": [
    "The neighborhood of a node N(v) is the set of all nodes adjacent to v. In @fig-gg, the neighborhood of node d would be expressed as N(d) = \\[b,c,e\\]. A *walk* comprises a sequence of edges and nodes, whereas a *path* is a walk with no repeating nodes visited. In @fig-path, the sequence of nodes \\[a,b,d\\] is both a walk and a path in graph G. \n",
    "\n",
    "![The sequence of nodes \\[a,c,d\\]  is both a walk and a path on G since there are no repeating nodes in the sequence.](fig-path.png){#fig-path width=\"30%\"}\n",
    "\n",
    "Two graphs are isomorphic if there is a structure that preserves a one-to-one correspondence between the nodes and edges. In other words, if the two graphs differ only by the names of the edges and nodes but are otherwise structurally equivalent, they are said to be isomorphic."
   ]
  },
  {
   "cell_type": "markdown",
   "metadata": {},
   "source": [
    "Graph analytical approaches have been used in a number of different domains including biology (to model biological systems such as protein-protein interaction networks or metabolic networks), social sciences (to study complex social networks), computer science  (to model malware, botnet, and anomaly detection), and engineering (to model complex systems such as transportation networks, electrical power grids) [@RN20]. "
   ]
  },
  {
   "cell_type": "markdown",
   "metadata": {},
   "source": [
    "## Topological indices"
   ]
  },
  {
   "cell_type": "markdown",
   "metadata": {},
   "source": [
    "Considering chemicals as graphs is not a novel concept. In fact, a wide variety of chemical properties and processes have been modelled using information derived from molecular graphs. Topological indices which have been in use for more than 45 years are algebraic invariants of hydrogen depleted molecular graphs which represent the topology of a molecule. There are hundreds of topological indices but the majority can be broadly categorized into 5 main types namely: degree-based indices, distance-based indices, count-based indices, eigenvalue-based indices and information-theoretic indices  [@balaban_topological_1983]. Degree indices are based on the degree of the nodes in the graph. The Zagreb Index is based on the degrees of the nodes focusing on the sum of squares or products of node degrees whereas the Randic Index is defined by the sum of the inverse of the square roots of the degrees of adjacent nodes. The most common distance based index is the Wiener Index, which represents the sum of the shortest-path distances between all pairs of nodes in the graph. Count based indices include the Hosoya Index which counts the number of matching sets in the graph. Eigenvalue based indices include the Estrada index which is the sum of the exponential of the eigenvalues of the adjacency matrix. Finally information-theoretic indices use concepts from information theory to quantify the distribution of certain properties within the graph. The Shannon entropy measures the diversity in the distributon of node degrees. Topological indices have been widely and successfully applied to the quantitative correlation of many different molecular properties such as boiling point, chemical reactivity as well as biological activity [@roy_use_2017]. Topological indices summarize a chemical into a single number or set of numbers. Although the indices have been used in many QSAR studies, one of their main shortcomings was a perceived lack of interpretability [@todeschini_chemical_1992]. "
   ]
  },
  {
   "cell_type": "markdown",
   "metadata": {},
   "source": [
    "## Graph Similarity"
   ]
  },
  {
   "cell_type": "markdown",
   "metadata": {},
   "source": [
    "Graph similarity is a well-studied problem with investigations being focused upon direct operations that examine structural properties such as graph edit distance, graph isomorphism and maximum common subgraph matching approaches [@ullmann_algorithm_1976;@pelillo_replicator_1999;@melnik_similarity_2002;@jeh_simrank_2002;@zager_graph_2008; @koutra_algorithms_2011;@chartrand_graph_1998]. "
   ]
  },
  {
   "cell_type": "markdown",
   "metadata": {},
   "source": [
    "### Graph edit distances using Reduced graphs"
   ]
  },
  {
   "cell_type": "markdown",
   "metadata": {},
   "source": [
    "Reduced graphs provide a summarised representation of a chemical structure that are produced by collapsing connected atoms into single nodes and forming edges between the nodes in accordance with bonds in the original structure. Reduced graphs have been used in a variety of applications in chemoinformatics ranging from the representation and search of Markush structures to the identification of structure-activity relationships (SARs). There are a number of different graph reduction schemes though each has been devised to address a different purpose [@gillet_similarity_2003;@birchall_reduced_2011;@birchall_training_2006]. Graph reduction schemes have been developed for similarity searching often with the objective of identifying substances with similarity in activity. Various methods have also been developed to quantify the similarity between reduced graphs from fingerprint approaches, graph matching as well as an edit distance method. The edit distance approach quantifies the degree of similarity of 2 reduced graphs based on the number and type of operations needed to convert one graph to the other. One benefit of the edit distance method is the ability to assign different weights to different operations - useful when deriving activity specific weights as evidenced in Birchall et al. [@birchall_training_2006]. However, graph edit distance are computationally expensive unless approximation algortihms are used particularly for larger graphs. Garcia-Hernandez et al. employed graph edit distances to reduced  graph representations to estimate the bioactivity of a chemical on the basis of the bioactivity of similar compounds and found better performance than the array representation-based approaches they compared against [@RN25]. "
   ]
  },
  {
   "cell_type": "markdown",
   "metadata": {},
   "source": [
    "### Graph isomorphism"
   ]
  },
  {
   "cell_type": "markdown",
   "metadata": {},
   "source": [
    "Several foundational questions of chemical similarity analysis have been framed as graph comparison problems; chemical equivalence may be modeled as a graph isomorphism task. Searching for a specific substructure (e.g. a benzene ring) within a chemical has been modeled as a subgraph isomorphism task. The enumeration of possible chemical structures is closely related to graph enumeration [@RN22]."
   ]
  },
  {
   "cell_type": "markdown",
   "metadata": {},
   "source": [
    "### Maximum common subgraph"
   ]
  },
  {
   "cell_type": "markdown",
   "metadata": {},
   "source": [
    "A common need in cheminformatics to the ability to align pairs of molecules together to make a determination of the degree of structural overlap. This is useful when exploring SARs, predicting bioactivity of substances or identifying chemical reaction sites. The degree of overlap between a pair of chemicals can be achieved using maximum common subgraph isomorphism algorithms\n",
    "[@duesbury_maximum_2017;@raymond_maximum_2002]. In cheminformatics, maximum common subgraph isomorphism is usually referred to as identifying the maximum common substructure (MCS). As put by A Dalke, \"given two structures, the MCS is the largest substructure common to both\". Maximum could be interpreted to imply the maximum number of atoms, number of bonds, number of cycles or even some physical property. There are also variations in how atom and bond equivalency might be defined. However the most common MCS is  where all atoms are the same if the element numbers are the same and the bonds are of the same type (see <http://dalkescientific.com/writings/diary/archive/2012/05/12/mcs_background.html>). \n",
    "There are a range of algorithms that can determine the MCS between pairs of chemicals. Some algorithms and perhaps the most prevalent work on the basis of identifing cliques or maximal cliques. Examples include the Bron-Kerbosch algorithm [@bron_algorithm_1973] which reports all of the maximal cliques found. A clique is a set of nodes in a graph such that each node is connected to each and every other node, with a maximal clique in a graph being one that is not contained within another large clique. TOPSIM [@durand_efficient_1999] is another algorithm designed to find the Maximum Common Edge Subgraph (MCES) between two graphs. The Maximum Common Edge Subgraph is similar to the Maximum Common Subgraph (MCS) problem but focuses on finding the largest subgraph that has the maximum number of edges in common between the two graphs. In this case, the algorithm converts labeled graph representations of two molecules into a compatibility graph. Then a modified maximal clique algorithm is used to find the maximal clique which represents the largest common substructure (excluding common isolated atoms) for the two molecules. A maximal common substructure is obtained by combining the largest common substructure and the common isolated atoms. The size of a maximal common substructure is then used to define both a molecular similarity index and a topological distance for two molecules. Other types of algorithms include subgraph enumeration algorithms which involve enumerating all connected subgraphs common to the two graphs that are being compared and then returning the largest subgraph. Raymond and Willett (2002) reviewed the main solutions for pairwise MCS [@raymond_maximum_2002] including multiple MCS [@dalke_fmcs_2013]."
   ]
  },
  {
   "cell_type": "markdown",
   "metadata": {},
   "source": [
    "More recent efforts to evaluate graph similarity include graph kernel methods, graph embedding methods, and deep learning (DL) methods (which can be considered to be a subset of graph embedding approaches in general). Graph kernel methods directly calculate a similarity score between two graphs based on their structural properties. Graph embedding methods transform graphs into numerical representations (vectors) that can be compared using standard distance metrics. Deep learning methods, a subset of graph embedding, learn these numerical representations automatically using neural networks. "
   ]
  },
  {
   "cell_type": "markdown",
   "metadata": {},
   "source": [
    "### Graph Kernels"
   ]
  },
  {
   "cell_type": "markdown",
   "metadata": {},
   "source": [
    "Graph kernels were first introduced as a way to compare complex structures like graphs based on a concept from Haussler’s work on kernels for discrete structures [@kondor_diffusion_2002]. The term “graph kernels” soon emerged to describe methods specifically for comparing graphs [@RN27; @RN45; @scholkopf_fast_2007]. The core idea behind graph kernels is to break down a graph into smaller components, called substructures. These substructures are then used to create feature vectors, which characterize the graph. By comparing these feature vectors, it is possible to measure how similar two graphs are. The inner products of the feature vectors can be efficiently computed to produce a similarity score between the graphs. The key to graph kernels lies in how the graph is decomposed. One simple approach is to count how many node labels are shared between graphs and computing the inner products of these label counts to produce a similarity score [@kriege_survey_2020]. @fig-count provides an example of counting node labels. \n",
    "\n",
    "![Graph kernel counting node labels.The feature vectors for both graphs are constructed by counting the numbers of node labels in each graph. A similarity score is then obtained by computing the inner products of the feature vectors.](fig-count.png){#fig-count width=\"100%\"}\n",
    "\n",
    "There are many different ways to decompose a graph in order to compare them. One approach is through Random walk kernels. This method involves taking random paths through the graph and counting how often each path occurs in each graph [@gartner_survey_2003]. Shortest path kernels aim to find the shortest paths between labeled nodes (atoms) in each graph and using these to construct feature vectors [@RN30]. A more advanced method builds on the Weisfeiler-Lehman (WL) graph isomorphism heuristic that was introduced by Shervashidze in 2011; known as the WL subtree kernel [@RN46]. The WL isomorphism heuristic works by iteratively updating the labels of each atom based on the labels of its neighboring atoms. Over several iterations, this process captures more detailed substructures within the molecule. If at any point the labels of the nodes in the graphs do not match, the algorithm is terminated as the two graphs can not be isomorphic. The WL subtree kernel then uses these refined labels to compare different molecular graphs. This method is particularly powerful and has been found to be closely related to operations used in graph neural networks. @fig-wl  shows an example iteration of the kernel between two graphs. "
   ]
  },
  {
   "cell_type": "markdown",
   "metadata": {},
   "source": [
    "\n",
    "![One iteration of the WL kernel. Feature vectors initially consist of counts of original atom labels. At each iteration, new labels (colors) are created for each atoms by considering the labels of its neighbors. Nodes a in both G1’ and G2’ are labeled gray as they were both adjacent to a single blue label in the previous iteration, whereas nodes e in G1’ and G2’ are assigned different labels due to the differences in their neighboring node labels. The feature vectors consist of counts of the original and newly created node labels as iteration continues until a defined limit or convergence is reached. The inner products are computed to obtain a similarity score.](wl.png){#fig-wl width=\"50%\"}"
   ]
  },
  {
   "cell_type": "markdown",
   "metadata": {},
   "source": [
    "### Graph Embeddings {#sec-graphembed}"
   ]
  },
  {
   "cell_type": "markdown",
   "metadata": {},
   "source": [
    "While there are numerous advantageous qualities to graph representations, there are also some inherent drawbacks to consider. Graphs are highly dimensional, heterogenous data, the analysis of which often involves large amounts of computational complexity and memory requirements [@cai_comprehensive_2018]. Additionally, many tasks are ill suited for the direct use of graph data. Visualization of sets of graphs, or use as input into established machine learning techniques such as clustering or classification require lower dimensional, structured representations of data. To accomplish these goals, graph embedding techniques may be employed to create lower dimensional representations of graph data that retain as much topological and label (or feature) information as possible. Highly informed graph embeddings can also provide a sense of similarity between graphs, being that, for sufficiently informative embeddings, highly similar graphs will have highly similar graph embeddings, with little distance between their embeddings in a latent space when compared to dissimilar graphs. Embeddings can refer to both node embeddings, in which a graph is given as input and individual vectorized embeddings for each node in the graph are returned, or to whole graph embeddings, in which a single vectorized representation of the entire graph is returned. \n",
    "\n",
    "A number of different methods exist that are capable of creating graph embeddings which can be broadly divided into two categories: node embeddings, and whole graph embeddings. **Node embeddings** map individual nodes in a graph to numerical vectors, capturing node characteristics and relationships. **Graph embeddings** represent the entire graph as a single vector, often by combining node embeddings or using other methods, enabling comparisons between graphs.There are a variety of different approaches to either task, with well established taxonomies in literature dividing them into three distinct categories; matrix factorization methods, random walk based methods, and neural network methods, with substantial areas of overlap between the three [@xu_understanding_2021;@goyal_graph_2018]. \n",
    "\n",
    "\n",
    "Matrix factorization techniques were the earliest studied, beginning with the multi-dimensional scaling (MDS) that decomposed adjacency matrices [@RN34]. Other factorization methods operate on graph proximity (distance matrices) or graph Laplacian matrices [@RN35;@RN36]. Although factorization methods are the most well-established and theoretically understood, they often scale poorly [@xu_understanding_2020]. Random walk based embeddings [@perozzi_deepwalk_2014] later emerged based upon word and document embedding methodologies such as Word2Vec, adopting the skip-gram neural network model used to create word embeddings to the graph context. The skip-gram model is a simple single hidden layer neural network (see @fig-skip) that is trained to predict the probabilities for each word in a given vocabulary to appear near in sequence to a given target word. The network is trained, and the weights of the trained network are exploited as vectorized word embeddings, with the underlying intuition being that words that often appear in similar contexts are likely highly similar in some context [@mikolov_efficient_2013]. "
   ]
  },
  {
   "cell_type": "markdown",
   "metadata": {},
   "source": [
    "![Skip gram model for Word2Vec word embeddings. A one hidden layer neural network is trained to determine the probabilities for each word in a vocabulary of appearing near in sequence to a given target word. The target word is given as a one-hot encoded input, and after training via backpropagation over a number of epochs, the hidden weights of the network are used as embedded vector representations of words.](survey_skip_gram_figure.png){#fig-skip}"
   ]
  },
  {
   "cell_type": "markdown",
   "metadata": {},
   "source": [
    "DeepWalk adapted the SkipGram approach to a graph setting [@perozzi_deepwalk_2014] for node embedding. Words are analogous to nodes in the graph, the sequences of words (a “context”) are analogous to random walks across node neighborhoods, and the vocabulary of words is analogous to all nodes in the graph. Node2Vec iterated upon DeepWalk with the introduction of parameters to control the length and freedom of the random walk operations [@RN40]. Graph2Vec iterated upon Node2Vec to allow for skip-gram based whole graph embeddings based off rooted subgraphs analogous to words in Word2Vec  [@narayanan_graph2vec_2017]. GL2Vec improved upon Graph2Vec in classification tasks by incorporating information gleaned from a line graph representation, better allowing for the capture of structural information [@RN42]. Research has shown that more complicated approaches to graph embeddings may not necessarily result in better performance. The LDP (Local Degree Profile) embedding method was introduced in 2019 and showed comparable performance to more sophisticated embeddings methods while only considering the degree information of nodes in a graphs without considering any label information whatsoever [@RN32].\n"
   ]
  },
  {
   "cell_type": "markdown",
   "metadata": {},
   "source": [
    "### Deep Learning Embeddings"
   ]
  },
  {
   "cell_type": "markdown",
   "metadata": {},
   "source": [
    "Inspired by widespread success of various deep learning approaches such as convolutional neural networks (CNNs), graph neural networks (GNNs) were introduced in 2008 with the goal of extending existing neural network models for processing graph structured data [@scarselli_graph_2009]. Early approaches focused mainly on iteratively learning individual node representations through propagation of neighboring node information. Taking inspiration from the concept of convolutional operations on structured data for image processing tasks, graph convolutional networks (GCNs) were defined. The GCN model introduced by Kipf and Welling in 2016 [@kipf_2017] operates on a graph or set of graphs via convolutions and activations. Each training epoch consists of two primary operations, an aggregation of neighborhood node information, followed by an update that uses the aggregated information to update individual node embeddings (see @fig-gcn-concept). The particulars of each operation are dependent upon the layer type used. The GCN model generates node embeddings, but whole graph embeddings can be easily generated by the addition of a pooling or “readout” layer that aggregates the individual node’s information by some method such as taking the mean, maximum, or minimum, and producing a whole graph embedding. Fully connected linear layers can be stacked onto the end of a GCN model to create end-to-end pipelines for ML tasks on graphs such as classification or regression. For whole graph classification, a number of linear layers and activation functions can be added to a network following the readout layer and the model is trained in a supervised manner to classify given graphs. A loss function such as cross-entropy or mean squared error is calculated and model weights adjusted through backpropagation. In addition to the use of a GCN in an end-to-end classification setting, this model can also be used to derive whole graph embeddings that are informed on some classification outcome. To do this, labeled graph data are used as an input. A GCN graph classification model is trained over a number of epochs, wherein the graphs are passed through convolutional layers and activation functions, node embeddings are aggregated by a readout layer, and the resultant whole graph embedding is passed through a series of linear layers to classify the graph. Error is calculated and the model weights are adjusted per training epoch. After a set number of training epochs, or when calculated loss has fallen below a set threshold, whole graph embeddings for both the training graphs and unseen testing graphs can be obtained by feeding graphs into the trained network and extracting the whole graph embedding from the readout layer before it is passed into the linear layers for classification. In Hagan et al. *in prep*, this approach was used to perform genotoxicity classification on the dataset described in @sec-graphembed. Metabolic graph representations were created using simulated metabolic data generated by metabolism simulation tools TIssue MEtabolism Simulator [@mekenyan_2004] and BioTransformer[@djoumbou_2019], where nodes in a graph represented the original chemical and its metabolites, and directed edges between nodes represented a transformation to a metabolite. A number of GCN architectures were employed to classify the metabolic graphs as either genotoxic or non-genotoxic. After training, a held-back validation set of metabolic graphs were embedded by the network. These embeddings were used as input into several classification models and compared against a baseline performance established by the use of Morgan chemical fingerprints into the GenRA package k-nn classifier, with improvements as high as over 7% in AUC-ROC score for genotoxicity classification of the chemicals. Readers are referred to Hagan et al. for further details."
   ]
  },
  {
   "cell_type": "markdown",
   "metadata": {},
   "source": [
    "$$ \n",
    "h_{u}{^{k+1}} = UPDATE{^k}(h_u{^k},AGGREGATE^k(\\left\\{ h_u^k, \\forall \\nu\\varepsilon N(u)\\right\\}))\n",
    "$$ \n",
    "\n",
    "where the generalized update of a node u’s hidden state at step k+1 in a graph convolutional operation. First, information of the node’s neighbors hidden states is aggregated together by some method. This aggregated information is combined in some fashion with the current hidden state of node u to produce a newly updated set of weights for the node’s hidden state.}\n"
   ]
  },
  {
   "cell_type": "markdown",
   "metadata": {},
   "source": [
    "![Graph convolutional network conceptual model. A graph is given as input into the model and passed through a series of convolutional layers and activation functions that produce embeddings for each node in the graph. The individual node embeddings are aggregated together by some pooling operation in a readout layer in order to produce a whole graph embedding as output that can be used for structured ML tasks such as classification, regression, or prediction.](gcn_model.png){#fig-gcn-concept}"
   ]
  },
  {
   "cell_type": "markdown",
   "metadata": {},
   "source": [
    "Herein, for each family of methods, the approach is described conceptually, and a short, simple example provided to demonstrate how these approach could be practically applied for read-across purposes either for the identification of analogue or to perform an endpoint prediction."
   ]
  },
  {
   "cell_type": "markdown",
   "metadata": {},
   "source": [
    "# Methods"
   ]
  },
  {
   "cell_type": "markdown",
   "metadata": {},
   "source": [
    "## WL Subtree Kernel Example {#sec-wl}"
   ]
  },
  {
   "cell_type": "markdown",
   "metadata": {},
   "source": [
    "A read-across example, comprising target substance 2-Amino-4,6-dinitrotoluene (2-ADNT) (CASRN 35572-78-2) and its structural analogues, was identified from the published EPA Provisional Peer-Reviewed Toxicity Values (PPRTV) assessments. A PPRTV is defined as a toxicity value derived for use in the EPA Superfund Program. PPRTVs are derived after a review of the relevant scientific literature using established EPA Agency guidance on human health toxicity value derivations. The objective is to provide support for the hazard and dose-response assessment pertaining to chronic and subchronic exposures of substances of concern, to present the major conclusions reached in the hazard identification and derivation of the PPRTVs, and to characterize the overall confidence in these conclusions and toxicity values. Current assessments can be accessed on the U.S. Environmental Protection Agency’s (EPA’s) PPRTV website at https://www.epa.gov/pprtv. In cases where there is a paucity of data to derive a PPRTV for a specific substance, an analogue approach is applied which permits the use of data from related substances to calculate a screening value. The exact procedure is described in more detail in Wang et al [@wang_application_2012]. \n",
    "\n",
    "Five structural analogues with relevant oral non cancer toxicity values were identified for the target substance 2-ADNT (see @tbl-pprtv). Structures were represented as SMILES. WL subtree kernels were derived for the set of candidate analogues to compare their pairwise similarities. Morgan chemical fingerprints (radius = 3, bitvector = 1024) were also derived from which a Jaccard index was calculated. This would provide a similarity metric typically relied upon in analogue searching tools already described. Molecular graph representations were created using the Python package RDKit [@landrum_rdkit]. The open source Python package GraKeL [@siglidis_grakel_2020] was used to implement the WL subtree kernel. \n",
    "\n",
    "The code provided shows how the identifiers and SMILES representations were compiled and converted into molecular graph representations for calculation of the WL. "
   ]
  },
  {
   "cell_type": "code",
   "execution_count": 25,
   "metadata": {},
   "outputs": [],
   "source": [
    "import grakel\n",
    "import matplotlib.pyplot as plt\n",
    "import grakel\n",
    "from rdkit import Chem\n",
    "import numpy as np\n",
    "import pandas as pd\n",
    "import networkx as nx\n",
    "import os"
   ]
  },
  {
   "cell_type": "code",
   "execution_count": 26,
   "metadata": {},
   "outputs": [],
   "source": [
    "#| echo: true \n",
    "dtxsids = ['2-Amino-4,6-Dinitrotoluene',\n",
    "'2,4,6-Trinitrotoluene',\n",
    "'2-Methyl-5-nitroaniline',\n",
    "'Isopropalin',\n",
    "'Pendimethalin',\n",
    "'Trifluralin'\n",
    "]\n",
    "\n",
    "smiles = ['CC1=C(C=C(C=C1N)[N+]([O-])=O)[N+]([O-])=O',\n",
    "'CC1=C(C=C(C=C1[N+]([O-])=O)[N+]([O-])=O)[N+]([O-])=O',\n",
    "'CC1=C(N)C=C(C=C1)[N+]([O-])=O',\n",
    "'CCCN(CCC)C1=C(C=C(C=C1[N+]([O-])=O)C(C)C)[N+]([O-])=O',\n",
    "'CCC(CC)NC1=C(C=C(C)C(C)=C1[N+]([O-])=O)[N+]([O-])=O',\n",
    "'CCCN(CCC)C1=C(C=C(C=C1[N+]([O-])=O)C(F)(F)F)[N+]([O-])=O',\n",
    "\n",
    "]\n"
   ]
  },
  {
   "cell_type": "code",
   "execution_count": 27,
   "metadata": {},
   "outputs": [],
   "source": [
    "#| echo: true\n",
    "def smile_to_mol_graph(smile):\n",
    "\n",
    "    mol = Chem.MolFromSmiles(smile)\n",
    "    g = nx.Graph()\n",
    "\n",
    "    for atom in mol.GetAtoms():\n",
    "        g.add_node(atom.GetIdx(),\n",
    "                   atom_symbol = atom.GetSymbol())\n",
    "    # Add edges with bond properties\n",
    "    for bond in mol.GetBonds():\n",
    "        g.add_edge(bond.GetBeginAtomIdx(), \n",
    "                   bond.GetEndAtomIdx(), \n",
    "                   bond_type=str(bond.GetBondType()))\n",
    "\n",
    "    \n",
    "    return g"
   ]
  },
  {
   "cell_type": "code",
   "execution_count": 28,
   "metadata": {},
   "outputs": [],
   "source": [
    "#| echo: true \n",
    "\n",
    "graphs = [smile_to_mol_graph(smile) for smile in smiles]\n",
    "grakel_graphs = grakel.graph_from_networkx(graphs,node_labels_tag='atom_symbol')"
   ]
  },
  {
   "cell_type": "code",
   "execution_count": 29,
   "metadata": {},
   "outputs": [],
   "source": [
    "#| echo: true\n",
    "wl_kernel = grakel.WeisfeilerLehman(base_graph_kernel=grakel.VertexHistogram,normalize=True)\n",
    "p = wl_kernel.fit_transform(grakel_graphs)\n",
    "df = pd.DataFrame(p)\n",
    "df.index = dtxsids\n",
    "df.columns = dtxsids"
   ]
  },
  {
   "cell_type": "code",
   "execution_count": 46,
   "metadata": {},
   "outputs": [],
   "source": [
    "#df"
   ]
  },
  {
   "cell_type": "code",
   "execution_count": 53,
   "metadata": {},
   "outputs": [],
   "source": [
    "#[Chem.MolFromSmiles(mol) for mol in smiles][3]"
   ]
  },
  {
   "cell_type": "code",
   "execution_count": 54,
   "metadata": {},
   "outputs": [],
   "source": [
    "#[Chem.MolFromSmiles(mol) for mol in smiles][4]"
   ]
  },
  {
   "cell_type": "markdown",
   "metadata": {},
   "source": [
    "## Node Embedding Example {#sec-node2vec}"
   ]
  },
  {
   "cell_type": "markdown",
   "metadata": {},
   "source": [
    "A dataset of 82 read-across case examples compiled from the literature taken from Patlewicz et al, *in preparation* was used to explore the uility of Node2Vec embeddings in comparing analogue pairs. The 82 cases comprised 468 substances which were converted to graph objects as described in @sec-wl. The Node2Vec python library was used to learn node embeddings by creating biased random walks of the molecular graphs. The embedding dimensions were set to 64, with a random walk length of 30 and parameters to adjust the balance between structural equivalence and homophily. "
   ]
  },
  {
   "cell_type": "markdown",
   "metadata": {},
   "source": [
    "## Graph Embedding Example {#sec-graph2vec}"
   ]
  },
  {
   "cell_type": "markdown",
   "metadata": {},
   "source": [
    "To demonstrate the applicability of graph embedding methodologies within a RAx context, an example was developed using a dataset of substances with associated genotoxicity outcomes. The dataset was an updated version of that compiled in Pradeep et al [@pradeep_evaluation_2021] drawn from the EPA Toxicity Values database (ToxValDB). The same methodology as described in Pradeep et al [@pradeep_evaluation_2021] was used to create a dataset with a summary genotoxicity outcome for each chemical. Genotoxicity studies, including *in vitro* and *in vivo* chromosomal aberration, Ames, micronucleus, mouse lymphoma studies were initially retrieved from ToxValDB. To create a single outcome per chemical, the dataset was first grouped by substance identifier and summarized as follows: if a substance was associated with a positive Ames result, a positive genotoxicity outcome was returned, if a substance was not associated with a positive Ames but did have a reported positive chromosomal or micronucleus outcome, it was tagged as a clastogen. If only inconclusive studies were associated with a substance, an inconclusive tag was assigned, finally if only negative outcomes were associated with the substance, a non-genotoxicity outcome was returned. For the dataset compiled with structural information, there were 5403 chemicals with QSAR-READY SMILES and a genotoxicity outcome. \n",
    "\n",
    "Genotoxicity is an endpoint of particular interest where many different prediction models have been developed from quantitative structure activity relationships (QSARs) to read-across approaches. Examples of models include the Ames mutagenicity model that exists within the EPA TEST suite (see [https://www.epa.gov/comptox-tools/toxicity-estimation-software-tool-test] as well as a myriad of genotoxicity models available within the VEGA suite of tools (see [https://www.vegahub.eu/portfolio-item/vega-qsar/]. Benigni reviewed the state of the art of modelling genotoxicity [@benigni_data-based_2019] discussing the different approaches that have been applied to which test guidelines have been modelled. There has been a renewed interest in building new models for genotoxicity since the International Conference on Harmonization (ICH) M7 guideline permited the use of *in silico* approaches for predicting Ames mutagenicity for the initial assessment of impurities in pharmaceuticals. The guideline allows for a knowledge base and statistical model to be used in combination to predict Ames mutagenicity. Two modelling challenges were established recently to crowdsource the development of new models to predict the Ames mutagenicity, first of which was reported in Honma et al [@honma_improvement_2019] with a followup study described in Furuhama et al. [@Furuhama_2023]. \n",
    "\n",
    "Beyond QSAR approaches, read-across approaches have been also been applied to genotoxicity as discussed by Benigni [@benigni_towards_2019]. One quantitative read-across approach includes the method employed by GenRA [@shah_systematically_2016], wherein structural aspects of chemicals are used in a K nearest-neighbors (k-nn) classification to derive a similarity weighted activity outcome. Morgan chemical fingerprints form one possible set of structural features to identify similar substances to perform a read-across. An alternative approach is to employ graph representations and embedding methods such as Graph2Vec, GL2Vec, and LDP to characterize substances and identify analogues. Herein, the constructed dataset was used to perform a genotoxicity prediction where the three aforementioned methods were used to create molecular graph representations as a basis to identify similar analogues. \n",
    "\n",
    "Molecular graph representations were generated using the open source Python package RDKit as described in @sec-wl. Graph2Vec, GL2Vec, and LDP embedding models, implemented within the Python package KarateClub [@karateclub], were used to generate vectorized embeddings for each substance. The embeddings were projected in 2D using a t-distributed stochastic neighborhood embedding (t-SNE) [@van_er_maaten_visualizing_2018], which was color coded by genotoxicity outcome. The embeddings were used as inputs in 2 classifiers; a k-nn classifier and logistic regression to assess their informative content. As a baseline comparator, Morgan chemical fingerprints were used as feature inputs into the same two classifiers. The 2 classifiers were implemented using the open source Python package scikit-learn [@RN53] with the area under the curve-receiver operating characteristic (AUC-ROC) as a performance metric. "
   ]
  },
  {
   "cell_type": "markdown",
   "metadata": {},
   "source": [
    "## GCN Embeddings Example"
   ]
  },
  {
   "cell_type": "markdown",
   "metadata": {},
   "source": [
    "The same dataset as described @sec-graph2vec was used to demonstrate the applicability of the GCN embedding method within a RAx context. An end-to-end GCN supervised graph classification model was constructed by using three convolutional layers (GATv2Conv convolutional layer, a graph attentional layer from Brody et al., [@RN56]) with ReLU activation functions, a global mean pooling readout layer, and a single fully connected linear layer to make predictions. For the molecular graphs, one hot encodings of the atom symbol labels were attached as node feature vectors. The graphs were split into a training and validation set of size 4,000 and 1,403 respectively. Using cross entropy loss and an Adam optimizer with a learning rate of 0.001, the model was trained over 50 epochs, with the AUC score of the training and validation graphs reported at each epoch. After training, embeddings for the validation graphs were generated by inputting the graphs into the trained model and extracting the resultant embedding from the readout layer. These  were visualized via t-SNE and labeled by outcome. The embeddings were also used as inputs into k-nn and logistic regression classification models, with performance compared against the use of Morgan chemical fingerprints."
   ]
  },
  {
   "cell_type": "markdown",
   "metadata": {},
   "source": [
    "# Results"
   ]
  },
  {
   "cell_type": "markdown",
   "metadata": {},
   "source": [
    "## WL Subtree Kernel "
   ]
  },
  {
   "cell_type": "markdown",
   "metadata": {},
   "source": [
    "Based on an expert-driven evaluation of the structural, physicochemical, available toxicokinetic (TK) data, and toxicity data, 2,4,6-Trinitrotoluene (TNT) was chosen as the 'best analogue' primarily based on its metabolic similarity, structural similarity, and shared metabolites. The similarity of toxicological outcomes across all the source analogues established confidence in the toxicologic read-across for 2-ADNT. TNT was also determined to be the most health-protective analogue because its point of departure (POD) and corresponding reference dose (RfD) value were lower than the other candidate analogues.\n",
    "WL and Jaccard (based on Morgan fingerprints) pairwise similarities across the target and all analogues are shown in @fig-timeline. TNT had both the highest WL and Jaccard score. The Jaccard similarities based on Morgan fingerprints were notably lower from the WL scores though the ranking in terms of the similarities relative to the target chemical was largely comparable. The difference between nitro group vs. amino group accounted for the slight decrease in WL score from the target 2-ADNT whereas the position of the methyl group appeared not to impact the score. The remaining candidate analogues all had lower WL scores owing to the change of substituent position as well as the substituents themselves. The high WL scores are likely to be as a result of the manner in which the graph was initially constructed using only atom symbols as labels. The absence of other relevant atom properties might better discriminate the differences between the analogues. Substances with similar overall topology but different substituents are likely to yield high WL scores since the WL kernel is sensitive to the global structure of the chemical and may overemphasize this at the expense of distinct local features. To explore this further the manner in which the graphs were constructed (see related code) was refined to incorporate additional atom property information and the WL scores were re-computed. "
   ]
  },
  {
   "cell_type": "code",
   "execution_count": 33,
   "metadata": {},
   "outputs": [
    {
     "data": {
      "image/png": "[encoded data removed]",
      "text/plain": [
       "<Figure size 900x600 with 4 Axes>"
      ]
     },
     "metadata": {},
     "output_type": "display_data"
    }
   ],
   "source": [
    "#| label: fig-timeline\n",
    "#| layout-ncol: 2\n",
    "#| fig-cap: \"Pairwise similarities based on WL and  Jaccard Morgan Fingerprints\"\n",
    "\n",
    "import seaborn as sns\n",
    "f, ax = plt.subplots(1,2, sharey = True, figsize = (15,10))\n",
    "sns.heatmap(df, cmap = 'coolwarm', annot = True, ax = ax[0], annot_kws={'size': 6})\n",
    "sns.heatmap(S_mgrn, cmap = 'coolwarm', annot = True, ax = ax[1], annot_kws={'size': 6});"
   ]
  },
  {
   "cell_type": "code",
   "execution_count": 34,
   "metadata": {},
   "outputs": [],
   "source": [
    "from rdkit.Chem import Descriptors\n",
    "from rdkit.ML.Descriptors import MoleculeDescriptors\n",
    "from rdkit.Chem import AllChem\n",
    "from rdkit.Chem import rdDepictor\n",
    "from rdkit.Chem.Fingerprints import FingerprintMols\n",
    "from rdkit import DataStructs\n",
    "\n",
    "MOLS = dict(zip(dtxsids, smiles))\n",
    "MOLS = {k:Chem.MolFromSmiles(v) for k,v in MOLS.items()}\n",
    "MOLS = {i:j for i,j in MOLS.items() if j}\n",
    "FP0 = pd.DataFrame([np.array(AllChem.GetMorganFingerprintAsBitVect(i,3,1024)) for i in MOLS.values()])\n",
    "FP0.index = MOLS.keys()\n",
    "FP0.columns = ['mrgn_%d'%i for i in FP0.columns]"
   ]
  },
  {
   "cell_type": "code",
   "execution_count": 35,
   "metadata": {},
   "outputs": [],
   "source": [
    "from scipy.spatial.distance import pdist, squareform"
   ]
  },
  {
   "cell_type": "code",
   "execution_count": 36,
   "metadata": {},
   "outputs": [],
   "source": [
    "D_mgrn = pd.DataFrame(squareform(pdist(FP0, 'jaccard')), columns = FP0.index, index = FP0.index)"
   ]
  },
  {
   "cell_type": "code",
   "execution_count": 37,
   "metadata": {},
   "outputs": [],
   "source": [
    "S_mgrn = 1-D_mgrn"
   ]
  },
  {
   "cell_type": "code",
   "execution_count": 38,
   "metadata": {},
   "outputs": [],
   "source": [
    "#S_mgrn"
   ]
  },
  {
   "cell_type": "code",
   "execution_count": 39,
   "metadata": {},
   "outputs": [],
   "source": [
    "#| echo: true \n",
    "def smile_to_mol_graph(smile):\n",
    "    mol = Chem.MolFromSmiles(smile)\n",
    "    g = nx.Graph()\n",
    "    \n",
    "    # Add nodes with atom properties\n",
    "    for atom in mol.GetAtoms():\n",
    "        node_label = f\"{atom.GetSymbol()}_{atom.GetDegree()}_{str(atom.GetHybridization())}_{atom.GetIsAromatic()}\"\n",
    "        g.add_node(atom.GetIdx(), \n",
    "                   atom_label=node_label)\n",
    "\n",
    "    # Add edges with bond properties\n",
    "    for bond in mol.GetBonds():\n",
    "        g.add_edge(bond.GetBeginAtomIdx(), \n",
    "                   bond.GetEndAtomIdx(), \n",
    "                   bond_type=str(bond.GetBondType()))\n",
    "\n",
    "    return g"
   ]
  },
  {
   "cell_type": "code",
   "execution_count": 40,
   "metadata": {},
   "outputs": [],
   "source": [
    "graphs = [smile_to_mol_graph(smile) for smile in smiles]\n",
    "#grakel_graphs = grakel.graph_from_networkx(graphs,node_labels_tag='atom_symbol')"
   ]
  },
  {
   "cell_type": "code",
   "execution_count": 41,
   "metadata": {},
   "outputs": [],
   "source": [
    "\n",
    "# Convert NetworkX graphs to Grakel graphs\n",
    "grakel_graphs = grakel.graph_from_networkx(graphs, node_labels_tag='atom_label')\n",
    "\n",
    "# Compute the WL kernel\n",
    "wl_kernel = grakel.WeisfeilerLehman(base_graph_kernel=grakel.VertexHistogram,normalize=True)\n",
    "kernel_matrix = wl_kernel.fit_transform(grakel_graphs)\n",
    "\n"
   ]
  },
  {
   "cell_type": "code",
   "execution_count": 42,
   "metadata": {},
   "outputs": [],
   "source": [
    "p1 = pd.DataFrame(kernel_matrix)\n",
    "\n",
    "p1.index = dtxsids\n",
    "p1.columns = dtxsids"
   ]
  },
  {
   "cell_type": "markdown",
   "metadata": {},
   "source": [
    "@tbl-pprtv compares the refined WL scores with the original WL based on atom labels alone and the Jaccard metric. Whilst the naive WL scores gave rise to the highest scores, incorporating additional atom property information (including aromaticity, hybridization and atom degree) refines the score (WL-rev) so that the differences between the substituents and their positions are better accounted for. The WL scores offer an effective means of computing a similar score direct from the structural representation bypassing the need to compute separate chemical fingerprints or descriptors. The approach was sensitive to the manner in which the graphs were constructed and care needs to be placed on incorporating atom and bond information so that small local differences between substances such as substituent differences on an aromatic ring structure are not lost in the manner in which global structure is characterized. Careful consideration of the type of information to attribute through label selection is an important aspect of this graph kernel operation."
   ]
  },
  {
   "cell_type": "markdown",
   "metadata": {},
   "source": [
    "\n",
    "|Substance|Role|DTXSID|WL|Jaccard Morgan FP|WL-rev|\n",
    "|:---:|:---:|:---:|:---:|:---:|:---:|\n",
    "|2-ADNT|Target|DTXSID6044068|1|1|1|\n",
    "| TNT|Selected  |DTXSID7024372 |0.88|0.57|0.73|\n",
    "|2-Methyl-5-nitroaniline  | Candidate | DTXSID4020959|0.73|0.43|0.52|\n",
    "|Isopropalin  | Candidate |DTXSID8024157 |0.66|0.21|0.45|\n",
    "| Pendimethalin |Candidate  | DTXSID7024245|0.70|0.24|0.50|\n",
    "| Trifluralin | Candidate | DTXSID4021395|0.62|0.23|0.42|\n",
    "\n",
    ": 2-ADNT is denoted as the target substance based on its role designation. TNT was ultimately selected as the read-across candidate out of the 5 candidate analogues. WL, Jaccard and WL-rev denote the similarity scores computed. WL relies on molecular graphs constructed using only atoms as labels whereas WL-rev scores were derived taking into account other atom property information. The pairwise scores are shown in each case. e.g. TNT was determined to have a Jaccard similarity with 2-ADNT of 0.57 whereas the WL score and revised WL score was 0.88 and 0.73 respectively. {#tbl-pprtv}"
   ]
  },
  {
   "cell_type": "markdown",
   "metadata": {},
   "source": [
    "## Node Embedding "
   ]
  },
  {
   "cell_type": "markdown",
   "metadata": {},
   "source": [
    "The cosine distance for selected read-across examples (see @tbl-icf) were calculated on the basis of the node embeddings. On first inspection, the node embeddings appear promising given the low cosine distances - the read-across candidates were found to be similar to their respective targets. However the maximum cosine distance across the overall dataset was determined to be quite low (0.44). Indeed, the pairwise cosine distances based on the embeddings for two random chemicals extracted from the dataset, chlorobenzene and caffeine was computed to be 0.19 which is not that much higher than for their respective candidate analogues. A permutation test between all the individual read-across cases relative to the overall dataset found that 67% of case examples had maximum pairwise distances that were not significantly different. Overall the node embeddings produced did not appear to be able to discriminate read-across case substances that were considered to be particularly similar in terms of their structure relative to the entire dataset suggesting other embeddings that are able to capture the whole graph might be more promising."
   ]
  },
  {
   "cell_type": "code",
   "execution_count": 57,
   "metadata": {},
   "outputs": [],
   "source": [
    "Dcr = pd.read_csv('/home/grace/Documents/python/metgraph/reports/survey/node2vec.csv', index_col = [0])"
   ]
  },
  {
   "cell_type": "markdown",
   "metadata": {},
   "source": [
    "\n",
    "|Substance|Role|DTXSID|Cosine Distance|\n",
    "|:---:|:---:|:---:|:---:|:---:|:---:|\n",
    "|Chlorobenzene|Target|DTXSID4020298|0|\n",
    "| 1,4-Dichlorobenzene|Candidate  |DTXSID1020431 |0.12|\n",
    "|1,2-Dichlorobenzene | Candidate | DTXSID6020430|0.14|\n",
    "|Caffeine  | Target |DTXSID0020232 |0|\n",
    "| Theophylline |Candidate  | DTXSID5021336|0.14|\n",
    "| Theobromine | Candidate | DTXSID9026132|0.11|\n",
    "\n",
    ": Selected targets and their candidate analogues and their corresponding pairwise cosine scores. {#tbl-icf}"
   ]
  },
  {
   "cell_type": "markdown",
   "metadata": {},
   "source": [
    "## Graph Embedding "
   ]
  },
  {
   "cell_type": "markdown",
   "metadata": {},
   "source": [
    "@fig-graph2vec, @fig-gl2vec and @fig-ldp show the embeddings for Graph2Vec, GL2Vec and LDP as projected into t-SNE plot and color coded by genotoxicity outcome. The mean AUC-ROC scores from 5-fold cross validation classifiers are shown in @tbl-graph2vec."
   ]
  },
  {
   "cell_type": "markdown",
   "metadata": {},
   "source": [
    "![Graph2Vec embeddings labeled by genotoxicity outcome](Graph2Vec_250724.png){#fig-graph2vec width=\"50%\" fig-pos=\"H\"}"
   ]
  },
  {
   "cell_type": "markdown",
   "metadata": {},
   "source": [
    "![GL2Vec embeddings labeled by genotoxicity outcome](GL2Vec_250724.png){#fig-gl2vec width=\"50%\" fig-pos=\"H\"}"
   ]
  },
  {
   "cell_type": "markdown",
   "metadata": {},
   "source": [
    "![LDP embeddings labeled by genotoxicity outcome](LDP_250724.png){#fig-ldp width=\"50%\" fig-pos=\"H\"}"
   ]
  },
  {
   "cell_type": "markdown",
   "metadata": {},
   "source": [
    "|Embedding Method|K-nn|Logistic Regression|\n",
    "|:---:|:-----:|:----:|\n",
    "|Morgan FPs|0.662|0.727|\n",
    "|Graph2Vec|0.526|0.500|\n",
    "|GL2Vec|0.604|0.598|\n",
    "|LDP|0.596|0.549|\n",
    ":5-fold cross validated k-nn and logistic regression genotoxicity classification results using Morgan fingerprints and the three  embeddings methods . {#tbl-graph2vec}"
   ]
  },
  {
   "cell_type": "markdown",
   "metadata": {},
   "source": [
    "The quality of the embeddings generated by Graph2Vec, GL2Vec, or LDP failed to capture relevant chemical features effectively to be able to discriminate between genotoxic and non-genotoxic outcomes. Morgan chemical fingerprints outperformed the graph embeddings using both classifiers. Graph2Vec struggled to separate the data, with almost no discrimination between the two outcomes as shown in @fig-graph2vec. GL2Vec and LDP both provided better discrimination, with clearer clustering of genotoxic and non-genotoxic chemicals (@fig-gl2vec and @fig-ldp). Fine tuning parameters such as embedding length and learning rates may increase performance since all embeddings were generated using the default parameters of the models. Default parameters were also used for the classification models, leaving another area of possible improvement. The graph representations used were also very simple, using only the atom symbol as the node labels. Different types of labels may lead to better performance in embedding methods that rely on node label information alone. "
   ]
  },
  {
   "cell_type": "markdown",
   "metadata": {},
   "source": [
    "## GCN Embeddings  "
   ]
  },
  {
   "cell_type": "markdown",
   "metadata": {},
   "source": [
    "GCN embeddings were visualized via t-SNE and labeled by outcome as shown in @fig-gcn-nn. The 5-fold cross validation AUC scores for the K-nn and Logistic regression using the GCN embeddings were found to be 0.66 and 0.78 repectively, a comparable performance to Morgan fingerprints using a K-nn approach but a marked improved with the logistic regression."
   ]
  },
  {
   "cell_type": "markdown",
   "metadata": {},
   "source": [
    "![GCN embeddings of validation graph set labeled by genotoxicity outcome](GCN_embedding_050824.png){#fig-gcn-nn fig-pos=\"H\"}"
   ]
  },
  {
   "cell_type": "markdown",
   "metadata": {},
   "source": [
    "A clearer separation between genotoxic and non-genotoxic chemicals in the embedded space created by the supervised classification GCN model was observed (@fig-gcn-nn) with an improvement in both the K-nn and logistic regression classification performance relative to using Morgan fingerprints. As with the previous graph embedding discussed in @sec-graph2vec, default parameters were used for both classification models, likely leaving room for improvement in performance through hyperparameter tuning. As with all DL models, there are a large number of options available when constructing a GCN architecture. Layer types, selection of activation functions, pooling methods, choice of loss functions and optimizers, as well as the fine tuning of parameters such as the optimizer’s learning rate,  the number of training epochs and number of neurons per layer are all of significant importance in a network’s performance. Further experimentation with network architecture would likely lead to better performance, but for the purposes of this illustrative example, the application of a generically designed network without any fine tuning was still able to yield reasonable performance."
   ]
  },
  {
   "cell_type": "markdown",
   "metadata": {},
   "source": [
    "# Conclusion"
   ]
  },
  {
   "cell_type": "markdown",
   "metadata": {},
   "source": [
    "In this tutorial review, a selection of approaches to quantifying graph similarity were described and demonstrated for their role in identifying and evaluating analogues within a read-across approach. A WL graph kernel approach was found to be useful in characterizing potential analogues relative to 2-ADNT, identifying TNT as the most similar analogue. TNT was selected as the source analogue for use in the read-across assessment. The WL scores were found to be sensitive to the way in which the graphs were initially constructed such that if atom and bond characteristics were not sufficiently captured, local differences in structural representations could be underrepresented relative to the whole molecular effects and thereby overinflating the resulting scores. Careful attention is needed to capture node and edge information before their use. Both the WL with atom labels or a revised WL taking into account additional atom properties identified TNT as the most similar analogue to 2-ADNT, their relative ranking of analogues was the same even though the actual WL scores differed. The Jaccard scores using Morgan fingerprints were lower no doubt highlighting that small changes in substituents and their positions are not well discriminated across the analogues relative to the target substance. Topological and label information played a significant role in ascertaining the WL similarities.\n",
    "\n",
    "In contrast embedding approaches building on the Word2Vec approach were found to be poor at capturing relevant molecular information and were ineffective in discriminating between substances that were read-across candidates (using Node2Vec to learn embeddings) or as in the second example were categorized as genotoxic or not. In the latter example, Morgan fingerprints were found to be superior in predicting the genotoxicity outcomes. Graph2Vec and LDP performed particularly poorly whereas GL2Vec was slightly better at discriminating genotoxicity or not using the 2 classifiers. \n",
    "\n",
    "A Deep learning GCN model fared better, with a marked improvement in performance compared with Morgan fingerprints. Whereas the embedding approaches applied in @sec-graphembed were unsupervised in nature, the GCN required labeled training data to create informed embeddings to facilitate genotoxicity classification. This performance increase observed also came at a cost of resources, and complexity. The GCN approach can be computationally expensive, depending on model parameters, scale of datasets, size of graphs and graph features, and more. These examples illustrate the potential that graph similarity approaches could play significant roles in the identification of suitable analogues for RAx However careful attention needs to be paid to the embedding representation applied and how the initial graphs are constructed. "
   ]
  },
  {
   "cell_type": "markdown",
   "metadata": {},
   "source": [
    "# References {-}"
   ]
  },
  {
   "cell_type": "markdown",
   "metadata": {},
   "source": [
    "# Disclaimer {-.unnumbered}\n",
    "This manuscript reflects the opinions of the authors and are not reflective or the opinions or policies of the US EPA. "
   ]
  },
  {
   "cell_type": "code",
   "execution_count": null,
   "metadata": {},
   "outputs": [],
   "source": []
  }
 ],
 "metadata": {
  "kernelspec": {
   "display_name": "cuda-gpt",
   "language": "python",
   "name": "cuda"
  },
  "language_info": {
   "codemirror_mode": {
    "name": "ipython",
    "version": 3
   },
   "file_extension": ".py",
   "mimetype": "text/x-python",
   "name": "python",
   "nbconvert_exporter": "python",
   "pygments_lexer": "ipython3",
   "version": "3.9.13"
  },
  "widgets": {
   "application/vnd.jupyter.widget-state+json": {
    "state": {},
    "version_major": 2,
    "version_minor": 0
   }
  }
 },
 "nbformat": 4,
 "nbformat_minor": 4
}
